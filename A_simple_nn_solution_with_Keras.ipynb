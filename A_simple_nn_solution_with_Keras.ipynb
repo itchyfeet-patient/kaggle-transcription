{
  "cells": [
    {
      "cell_type": "markdown",
      "metadata": {
        "id": "view-in-github",
        "colab_type": "text"
      },
      "source": [
        "<a href=\"https://colab.research.google.com/github/itchyfeet-patient/kaggle-transcription/blob/master/A_simple_nn_solution_with_Keras.ipynb\" target=\"_parent\"><img src=\"https://colab.research.google.com/assets/colab-badge.svg\" alt=\"Open In Colab\"/></a>"
      ]
    },
    {
      "cell_type": "markdown",
      "metadata": {
        "id": "vMOAFkYbkru9"
      },
      "source": [
        "* [원 노트북](https://www.kaggle.com/code/knowledgegrappler/a-simple-nn-solution-with-keras-0-48611-pl/notebook)  \n",
        "* [캐글 대회](https://www.kaggle.com/competitions/mercari-price-suggestion-challenge)"
      ]
    },
    {
      "cell_type": "markdown",
      "metadata": {
        "id": "VpW6H9-mkrtF"
      },
      "source": [
        "# **A simple nn solution with Keras**"
      ]
    },
    {
      "cell_type": "markdown",
      "metadata": {
        "id": "amtCx43nfp7t"
      },
      "source": [
        "## 👑 Competition : Mercari Price Suggestion Challenge"
      ]
    },
    {
      "cell_type": "markdown",
      "metadata": {
        "id": "yEA8K0ryf32-"
      },
      "source": [
        "'메루카리' 라는 일본 최대 중고거래 사이트에서 개최한 Competition입니다.  \n",
        "![image](https://user-images.githubusercontent.com/108614874/196069399-ff25e929-4d07-4127-817b-8f468e3505cb.png)\n",
        "이 스웨터 중 하나는 335 달러고 다른 스웨터는 9.99 달러입니다.  \n",
        "이 중 어느것이 더 비싼 제품인지 맞출 수 있을까요?  \n",
        "의류는 계절별 가격 추세가 강하고 브랜드 이름의 영향을 많이 받는 반면, 전자제품은 제품 사양에 따라 가격이 변동합니다. 이렇게 제품별로 고려해야 할 사항이 각기 다르기 때문에 중고거래가를 제시하는데 어려움이 있습니다.  \n",
        "여기서 메루카리는 올바른 제품 가격을 자동으로 제안하는 알고리즘을 구축하도록 Competition을 제안했습니다."
      ]
    },
    {
      "cell_type": "markdown",
      "metadata": {
        "id": "Zi2XwrrXi5jE"
      },
      "source": [
        "---"
      ]
    },
    {
      "cell_type": "code",
      "execution_count": null,
      "metadata": {
        "colab": {
          "base_uri": "https://localhost:8080/"
        },
        "id": "pDE0juiui6QR",
        "outputId": "aa41b969-2e19-4786-c095-0c18c65a26ef"
      },
      "outputs": [
        {
          "output_type": "stream",
          "name": "stdout",
          "text": [
            "myNNsubmission.csv\n",
            "nn_model.h5\n",
            "sample_submission.csv\n",
            "test.tsv\n",
            "train.tsv\n",
            "\n"
          ]
        }
      ],
      "source": [
        "import numpy as np\n",
        "import pandas as pd\n",
        "\n",
        "from sklearn.preprocessing import LabelEncoder, MinMaxScaler, StandardScaler\n",
        "from sklearn.model_selection import train_test_split\n",
        "# from sklearn.cross_validation에서 수정\n",
        "\n",
        "import matplotlib.pyplot as plt\n",
        "%matplotlib inline\n",
        "\n",
        "import math\n",
        "\n",
        "from subprocess import check_output\n",
        "print(check_output([\"ls\", \"/content/drive/MyDrive/dataset/kaggle/mercari-price-suggestion-challenge\"]).decode(\"utf8\"))"
      ]
    },
    {
      "cell_type": "markdown",
      "metadata": {
        "id": "AIimBPivkvxw"
      },
      "source": [
        "이렇게 경로에 있는 파일을 확인하고 라이브러리를 불러왔습니다."
      ]
    },
    {
      "cell_type": "markdown",
      "metadata": {
        "id": "46LFy8Zlk85d"
      },
      "source": [
        "### RMSLE 함수"
      ]
    },
    {
      "cell_type": "markdown",
      "metadata": {
        "id": "Dn7cj7rblKmX"
      },
      "source": [
        "![image](https://user-images.githubusercontent.com/108614874/196071122-c562e922-9708-4030-8a01-6d807b1e5bde.png)"
      ]
    },
    {
      "cell_type": "markdown",
      "metadata": {
        "id": "BX-IgFNVlLop"
      },
      "source": [
        "이 competition에서는 RMSLE로 채점을 합니당"
      ]
    },
    {
      "cell_type": "code",
      "execution_count": null,
      "metadata": {
        "id": "5LnHbS1qk6Vt"
      },
      "outputs": [],
      "source": [
        "def rmsle(y, y_pred):\n",
        "    assert len(y) == len(y_pred)\n",
        "    to_sum = [(math.log(y_pred[i] + 1) - math.log(y[i] + 1)) ** 2.0 for i, pred in enumerate(y_pred)]\n",
        "    return (sum(to_sum) * (1.0/len(y))) ** 0.5\n",
        "\n",
        "#Source: https://www.kaggle.com/marknagelberg/rmsle-function"
      ]
    },
    {
      "cell_type": "markdown",
      "metadata": {
        "id": "23loBCmnmwcK"
      },
      "source": [
        "### 데이터 불러오기"
      ]
    },
    {
      "cell_type": "code",
      "execution_count": null,
      "metadata": {
        "colab": {
          "base_uri": "https://localhost:8080/"
        },
        "id": "T6dzBQVXlqIi",
        "outputId": "48d6f0ed-e37f-4bb2-8749-5b3d00e8c8d4"
      },
      "outputs": [
        {
          "output_type": "stream",
          "name": "stdout",
          "text": [
            "loading data...\n",
            "(1482535, 8)\n",
            "(693359, 7)\n"
          ]
        }
      ],
      "source": [
        "# Load data\n",
        "print(\"loading data...\")\n",
        "train = pd.read_table(\"/content/drive/MyDrive/dataset/kaggle/mercari-price-suggestion-challenge/train.tsv\")\n",
        "test = pd.read_table(\"/content/drive/MyDrive/dataset/kaggle/mercari-price-suggestion-challenge/test.tsv\")\n",
        "print(train.shape)\n",
        "print(test.shape)"
      ]
    },
    {
      "cell_type": "markdown",
      "metadata": {
        "id": "rLMnDpJunO7R"
      },
      "source": [
        "\n",
        "* `train_id` or `test_id`\n",
        "* `name` - 제품명이고, 이름에 가격이 포함되어 있으면 [rm]으로 대체할 예정\n",
        "* `item_condition_id` - 판매자가 제공한 제품 상태\n",
        "* `category_name`\n",
        "* `brand_name`\n",
        "* `price` - 판매'된' 가격 , target variable이고 우리가 예측해야 할 대상, 단위는 USD, 당연히 test.tsv에 존재하지않음.\n",
        "* `shipping` - 배송료를 판매자가 지불했으면 1, 구매자가 지불했으면 0\n",
        "* `item_description` - 항목 설명, 가격이 포함된 데이터는 [rm]으로 표시될거에요"
      ]
    },
    {
      "cell_type": "code",
      "execution_count": null,
      "metadata": {
        "colab": {
          "base_uri": "https://localhost:8080/",
          "height": 320
        },
        "id": "c26T9659nFuD",
        "outputId": "9c9d8b3e-2fa7-4e25-8e9e-8cd28daa5db0"
      },
      "outputs": [
        {
          "output_type": "execute_result",
          "data": {
            "text/plain": [
              "   train_id                                 name  item_condition_id  \\\n",
              "0         0  MLB Cincinnati Reds T Shirt Size XL                  3   \n",
              "1         1     Razer BlackWidow Chroma Keyboard                  3   \n",
              "2         2                       AVA-VIV Blouse                  1   \n",
              "3         3                Leather Horse Statues                  1   \n",
              "4         4                 24K GOLD plated rose                  1   \n",
              "\n",
              "                                       category_name brand_name  price  \\\n",
              "0                                  Men/Tops/T-shirts        NaN   10.0   \n",
              "1  Electronics/Computers & Tablets/Components & P...      Razer   52.0   \n",
              "2                        Women/Tops & Blouses/Blouse     Target   10.0   \n",
              "3                 Home/Home Décor/Home Décor Accents        NaN   35.0   \n",
              "4                            Women/Jewelry/Necklaces        NaN   44.0   \n",
              "\n",
              "   shipping                                   item_description  \n",
              "0         1                                 No description yet  \n",
              "1         0  This keyboard is in great condition and works ...  \n",
              "2         1  Adorable top with a hint of lace and a key hol...  \n",
              "3         1  New with tags. Leather horses. Retail for [rm]...  \n",
              "4         0          Complete with certificate of authenticity  "
            ],
            "text/html": [
              "\n",
              "  <div id=\"df-c7efe2f5-2354-4ec1-80b3-0520130d2891\">\n",
              "    <div class=\"colab-df-container\">\n",
              "      <div>\n",
              "<style scoped>\n",
              "    .dataframe tbody tr th:only-of-type {\n",
              "        vertical-align: middle;\n",
              "    }\n",
              "\n",
              "    .dataframe tbody tr th {\n",
              "        vertical-align: top;\n",
              "    }\n",
              "\n",
              "    .dataframe thead th {\n",
              "        text-align: right;\n",
              "    }\n",
              "</style>\n",
              "<table border=\"1\" class=\"dataframe\">\n",
              "  <thead>\n",
              "    <tr style=\"text-align: right;\">\n",
              "      <th></th>\n",
              "      <th>train_id</th>\n",
              "      <th>name</th>\n",
              "      <th>item_condition_id</th>\n",
              "      <th>category_name</th>\n",
              "      <th>brand_name</th>\n",
              "      <th>price</th>\n",
              "      <th>shipping</th>\n",
              "      <th>item_description</th>\n",
              "    </tr>\n",
              "  </thead>\n",
              "  <tbody>\n",
              "    <tr>\n",
              "      <th>0</th>\n",
              "      <td>0</td>\n",
              "      <td>MLB Cincinnati Reds T Shirt Size XL</td>\n",
              "      <td>3</td>\n",
              "      <td>Men/Tops/T-shirts</td>\n",
              "      <td>NaN</td>\n",
              "      <td>10.0</td>\n",
              "      <td>1</td>\n",
              "      <td>No description yet</td>\n",
              "    </tr>\n",
              "    <tr>\n",
              "      <th>1</th>\n",
              "      <td>1</td>\n",
              "      <td>Razer BlackWidow Chroma Keyboard</td>\n",
              "      <td>3</td>\n",
              "      <td>Electronics/Computers &amp; Tablets/Components &amp; P...</td>\n",
              "      <td>Razer</td>\n",
              "      <td>52.0</td>\n",
              "      <td>0</td>\n",
              "      <td>This keyboard is in great condition and works ...</td>\n",
              "    </tr>\n",
              "    <tr>\n",
              "      <th>2</th>\n",
              "      <td>2</td>\n",
              "      <td>AVA-VIV Blouse</td>\n",
              "      <td>1</td>\n",
              "      <td>Women/Tops &amp; Blouses/Blouse</td>\n",
              "      <td>Target</td>\n",
              "      <td>10.0</td>\n",
              "      <td>1</td>\n",
              "      <td>Adorable top with a hint of lace and a key hol...</td>\n",
              "    </tr>\n",
              "    <tr>\n",
              "      <th>3</th>\n",
              "      <td>3</td>\n",
              "      <td>Leather Horse Statues</td>\n",
              "      <td>1</td>\n",
              "      <td>Home/Home Décor/Home Décor Accents</td>\n",
              "      <td>NaN</td>\n",
              "      <td>35.0</td>\n",
              "      <td>1</td>\n",
              "      <td>New with tags. Leather horses. Retail for [rm]...</td>\n",
              "    </tr>\n",
              "    <tr>\n",
              "      <th>4</th>\n",
              "      <td>4</td>\n",
              "      <td>24K GOLD plated rose</td>\n",
              "      <td>1</td>\n",
              "      <td>Women/Jewelry/Necklaces</td>\n",
              "      <td>NaN</td>\n",
              "      <td>44.0</td>\n",
              "      <td>0</td>\n",
              "      <td>Complete with certificate of authenticity</td>\n",
              "    </tr>\n",
              "  </tbody>\n",
              "</table>\n",
              "</div>\n",
              "      <button class=\"colab-df-convert\" onclick=\"convertToInteractive('df-c7efe2f5-2354-4ec1-80b3-0520130d2891')\"\n",
              "              title=\"Convert this dataframe to an interactive table.\"\n",
              "              style=\"display:none;\">\n",
              "        \n",
              "  <svg xmlns=\"http://www.w3.org/2000/svg\" height=\"24px\"viewBox=\"0 0 24 24\"\n",
              "       width=\"24px\">\n",
              "    <path d=\"M0 0h24v24H0V0z\" fill=\"none\"/>\n",
              "    <path d=\"M18.56 5.44l.94 2.06.94-2.06 2.06-.94-2.06-.94-.94-2.06-.94 2.06-2.06.94zm-11 1L8.5 8.5l.94-2.06 2.06-.94-2.06-.94L8.5 2.5l-.94 2.06-2.06.94zm10 10l.94 2.06.94-2.06 2.06-.94-2.06-.94-.94-2.06-.94 2.06-2.06.94z\"/><path d=\"M17.41 7.96l-1.37-1.37c-.4-.4-.92-.59-1.43-.59-.52 0-1.04.2-1.43.59L10.3 9.45l-7.72 7.72c-.78.78-.78 2.05 0 2.83L4 21.41c.39.39.9.59 1.41.59.51 0 1.02-.2 1.41-.59l7.78-7.78 2.81-2.81c.8-.78.8-2.07 0-2.86zM5.41 20L4 18.59l7.72-7.72 1.47 1.35L5.41 20z\"/>\n",
              "  </svg>\n",
              "      </button>\n",
              "      \n",
              "  <style>\n",
              "    .colab-df-container {\n",
              "      display:flex;\n",
              "      flex-wrap:wrap;\n",
              "      gap: 12px;\n",
              "    }\n",
              "\n",
              "    .colab-df-convert {\n",
              "      background-color: #E8F0FE;\n",
              "      border: none;\n",
              "      border-radius: 50%;\n",
              "      cursor: pointer;\n",
              "      display: none;\n",
              "      fill: #1967D2;\n",
              "      height: 32px;\n",
              "      padding: 0 0 0 0;\n",
              "      width: 32px;\n",
              "    }\n",
              "\n",
              "    .colab-df-convert:hover {\n",
              "      background-color: #E2EBFA;\n",
              "      box-shadow: 0px 1px 2px rgba(60, 64, 67, 0.3), 0px 1px 3px 1px rgba(60, 64, 67, 0.15);\n",
              "      fill: #174EA6;\n",
              "    }\n",
              "\n",
              "    [theme=dark] .colab-df-convert {\n",
              "      background-color: #3B4455;\n",
              "      fill: #D2E3FC;\n",
              "    }\n",
              "\n",
              "    [theme=dark] .colab-df-convert:hover {\n",
              "      background-color: #434B5C;\n",
              "      box-shadow: 0px 1px 3px 1px rgba(0, 0, 0, 0.15);\n",
              "      filter: drop-shadow(0px 1px 2px rgba(0, 0, 0, 0.3));\n",
              "      fill: #FFFFFF;\n",
              "    }\n",
              "  </style>\n",
              "\n",
              "      <script>\n",
              "        const buttonEl =\n",
              "          document.querySelector('#df-c7efe2f5-2354-4ec1-80b3-0520130d2891 button.colab-df-convert');\n",
              "        buttonEl.style.display =\n",
              "          google.colab.kernel.accessAllowed ? 'block' : 'none';\n",
              "\n",
              "        async function convertToInteractive(key) {\n",
              "          const element = document.querySelector('#df-c7efe2f5-2354-4ec1-80b3-0520130d2891');\n",
              "          const dataTable =\n",
              "            await google.colab.kernel.invokeFunction('convertToInteractive',\n",
              "                                                     [key], {});\n",
              "          if (!dataTable) return;\n",
              "\n",
              "          const docLinkHtml = 'Like what you see? Visit the ' +\n",
              "            '<a target=\"_blank\" href=https://colab.research.google.com/notebooks/data_table.ipynb>data table notebook</a>'\n",
              "            + ' to learn more about interactive tables.';\n",
              "          element.innerHTML = '';\n",
              "          dataTable['output_type'] = 'display_data';\n",
              "          await google.colab.output.renderOutput(dataTable, element);\n",
              "          const docLink = document.createElement('div');\n",
              "          docLink.innerHTML = docLinkHtml;\n",
              "          element.appendChild(docLink);\n",
              "        }\n",
              "      </script>\n",
              "    </div>\n",
              "  </div>\n",
              "  "
            ]
          },
          "metadata": {},
          "execution_count": 4
        }
      ],
      "source": [
        "train.head(5)"
      ]
    },
    {
      "cell_type": "code",
      "execution_count": null,
      "metadata": {
        "colab": {
          "base_uri": "https://localhost:8080/",
          "height": 302
        },
        "id": "MPlvOFXepWkb",
        "outputId": "eced50be-9230-43c8-f35f-43f24b8e9a3e"
      },
      "outputs": [
        {
          "output_type": "execute_result",
          "data": {
            "text/plain": [
              "   test_id                                      name  item_condition_id  \\\n",
              "0        0  Breast cancer \"I fight like a girl\" ring                  1   \n",
              "1        1  25 pcs NEW 7.5\"x12\" Kraft Bubble Mailers                  1   \n",
              "2        2                                 Coach bag                  1   \n",
              "3        3                             Floral Kimono                  2   \n",
              "4        4                          Life after Death                  3   \n",
              "\n",
              "                                    category_name brand_name  shipping  \\\n",
              "0                             Women/Jewelry/Rings        NaN         1   \n",
              "1         Other/Office supplies/Shipping Supplies        NaN         1   \n",
              "2  Vintage & Collectibles/Bags and Purses/Handbag      Coach         1   \n",
              "3                         Women/Sweaters/Cardigan        NaN         0   \n",
              "4             Other/Books/Religion & Spirituality        NaN         1   \n",
              "\n",
              "                                    item_description  \n",
              "0                                             Size 7  \n",
              "1  25 pcs NEW 7.5\"x12\" Kraft Bubble Mailers Lined...  \n",
              "2  Brand new coach bag. Bought for [rm] at a Coac...  \n",
              "3  -floral kimono -never worn -lightweight and pe...  \n",
              "4  Rediscovering life after the loss of a loved o...  "
            ],
            "text/html": [
              "\n",
              "  <div id=\"df-475bccf6-b0fe-4ae5-9215-1cb8ede0c09b\">\n",
              "    <div class=\"colab-df-container\">\n",
              "      <div>\n",
              "<style scoped>\n",
              "    .dataframe tbody tr th:only-of-type {\n",
              "        vertical-align: middle;\n",
              "    }\n",
              "\n",
              "    .dataframe tbody tr th {\n",
              "        vertical-align: top;\n",
              "    }\n",
              "\n",
              "    .dataframe thead th {\n",
              "        text-align: right;\n",
              "    }\n",
              "</style>\n",
              "<table border=\"1\" class=\"dataframe\">\n",
              "  <thead>\n",
              "    <tr style=\"text-align: right;\">\n",
              "      <th></th>\n",
              "      <th>test_id</th>\n",
              "      <th>name</th>\n",
              "      <th>item_condition_id</th>\n",
              "      <th>category_name</th>\n",
              "      <th>brand_name</th>\n",
              "      <th>shipping</th>\n",
              "      <th>item_description</th>\n",
              "    </tr>\n",
              "  </thead>\n",
              "  <tbody>\n",
              "    <tr>\n",
              "      <th>0</th>\n",
              "      <td>0</td>\n",
              "      <td>Breast cancer \"I fight like a girl\" ring</td>\n",
              "      <td>1</td>\n",
              "      <td>Women/Jewelry/Rings</td>\n",
              "      <td>NaN</td>\n",
              "      <td>1</td>\n",
              "      <td>Size 7</td>\n",
              "    </tr>\n",
              "    <tr>\n",
              "      <th>1</th>\n",
              "      <td>1</td>\n",
              "      <td>25 pcs NEW 7.5\"x12\" Kraft Bubble Mailers</td>\n",
              "      <td>1</td>\n",
              "      <td>Other/Office supplies/Shipping Supplies</td>\n",
              "      <td>NaN</td>\n",
              "      <td>1</td>\n",
              "      <td>25 pcs NEW 7.5\"x12\" Kraft Bubble Mailers Lined...</td>\n",
              "    </tr>\n",
              "    <tr>\n",
              "      <th>2</th>\n",
              "      <td>2</td>\n",
              "      <td>Coach bag</td>\n",
              "      <td>1</td>\n",
              "      <td>Vintage &amp; Collectibles/Bags and Purses/Handbag</td>\n",
              "      <td>Coach</td>\n",
              "      <td>1</td>\n",
              "      <td>Brand new coach bag. Bought for [rm] at a Coac...</td>\n",
              "    </tr>\n",
              "    <tr>\n",
              "      <th>3</th>\n",
              "      <td>3</td>\n",
              "      <td>Floral Kimono</td>\n",
              "      <td>2</td>\n",
              "      <td>Women/Sweaters/Cardigan</td>\n",
              "      <td>NaN</td>\n",
              "      <td>0</td>\n",
              "      <td>-floral kimono -never worn -lightweight and pe...</td>\n",
              "    </tr>\n",
              "    <tr>\n",
              "      <th>4</th>\n",
              "      <td>4</td>\n",
              "      <td>Life after Death</td>\n",
              "      <td>3</td>\n",
              "      <td>Other/Books/Religion &amp; Spirituality</td>\n",
              "      <td>NaN</td>\n",
              "      <td>1</td>\n",
              "      <td>Rediscovering life after the loss of a loved o...</td>\n",
              "    </tr>\n",
              "  </tbody>\n",
              "</table>\n",
              "</div>\n",
              "      <button class=\"colab-df-convert\" onclick=\"convertToInteractive('df-475bccf6-b0fe-4ae5-9215-1cb8ede0c09b')\"\n",
              "              title=\"Convert this dataframe to an interactive table.\"\n",
              "              style=\"display:none;\">\n",
              "        \n",
              "  <svg xmlns=\"http://www.w3.org/2000/svg\" height=\"24px\"viewBox=\"0 0 24 24\"\n",
              "       width=\"24px\">\n",
              "    <path d=\"M0 0h24v24H0V0z\" fill=\"none\"/>\n",
              "    <path d=\"M18.56 5.44l.94 2.06.94-2.06 2.06-.94-2.06-.94-.94-2.06-.94 2.06-2.06.94zm-11 1L8.5 8.5l.94-2.06 2.06-.94-2.06-.94L8.5 2.5l-.94 2.06-2.06.94zm10 10l.94 2.06.94-2.06 2.06-.94-2.06-.94-.94-2.06-.94 2.06-2.06.94z\"/><path d=\"M17.41 7.96l-1.37-1.37c-.4-.4-.92-.59-1.43-.59-.52 0-1.04.2-1.43.59L10.3 9.45l-7.72 7.72c-.78.78-.78 2.05 0 2.83L4 21.41c.39.39.9.59 1.41.59.51 0 1.02-.2 1.41-.59l7.78-7.78 2.81-2.81c.8-.78.8-2.07 0-2.86zM5.41 20L4 18.59l7.72-7.72 1.47 1.35L5.41 20z\"/>\n",
              "  </svg>\n",
              "      </button>\n",
              "      \n",
              "  <style>\n",
              "    .colab-df-container {\n",
              "      display:flex;\n",
              "      flex-wrap:wrap;\n",
              "      gap: 12px;\n",
              "    }\n",
              "\n",
              "    .colab-df-convert {\n",
              "      background-color: #E8F0FE;\n",
              "      border: none;\n",
              "      border-radius: 50%;\n",
              "      cursor: pointer;\n",
              "      display: none;\n",
              "      fill: #1967D2;\n",
              "      height: 32px;\n",
              "      padding: 0 0 0 0;\n",
              "      width: 32px;\n",
              "    }\n",
              "\n",
              "    .colab-df-convert:hover {\n",
              "      background-color: #E2EBFA;\n",
              "      box-shadow: 0px 1px 2px rgba(60, 64, 67, 0.3), 0px 1px 3px 1px rgba(60, 64, 67, 0.15);\n",
              "      fill: #174EA6;\n",
              "    }\n",
              "\n",
              "    [theme=dark] .colab-df-convert {\n",
              "      background-color: #3B4455;\n",
              "      fill: #D2E3FC;\n",
              "    }\n",
              "\n",
              "    [theme=dark] .colab-df-convert:hover {\n",
              "      background-color: #434B5C;\n",
              "      box-shadow: 0px 1px 3px 1px rgba(0, 0, 0, 0.15);\n",
              "      filter: drop-shadow(0px 1px 2px rgba(0, 0, 0, 0.3));\n",
              "      fill: #FFFFFF;\n",
              "    }\n",
              "  </style>\n",
              "\n",
              "      <script>\n",
              "        const buttonEl =\n",
              "          document.querySelector('#df-475bccf6-b0fe-4ae5-9215-1cb8ede0c09b button.colab-df-convert');\n",
              "        buttonEl.style.display =\n",
              "          google.colab.kernel.accessAllowed ? 'block' : 'none';\n",
              "\n",
              "        async function convertToInteractive(key) {\n",
              "          const element = document.querySelector('#df-475bccf6-b0fe-4ae5-9215-1cb8ede0c09b');\n",
              "          const dataTable =\n",
              "            await google.colab.kernel.invokeFunction('convertToInteractive',\n",
              "                                                     [key], {});\n",
              "          if (!dataTable) return;\n",
              "\n",
              "          const docLinkHtml = 'Like what you see? Visit the ' +\n",
              "            '<a target=\"_blank\" href=https://colab.research.google.com/notebooks/data_table.ipynb>data table notebook</a>'\n",
              "            + ' to learn more about interactive tables.';\n",
              "          element.innerHTML = '';\n",
              "          dataTable['output_type'] = 'display_data';\n",
              "          await google.colab.output.renderOutput(dataTable, element);\n",
              "          const docLink = document.createElement('div');\n",
              "          docLink.innerHTML = docLinkHtml;\n",
              "          element.appendChild(docLink);\n",
              "        }\n",
              "      </script>\n",
              "    </div>\n",
              "  </div>\n",
              "  "
            ]
          },
          "metadata": {},
          "execution_count": 5
        }
      ],
      "source": [
        "test.head(5)"
      ]
    },
    {
      "cell_type": "markdown",
      "metadata": {
        "id": "eLwFT-xBph4m"
      },
      "source": [
        "### 결측치 다루기"
      ]
    },
    {
      "cell_type": "code",
      "execution_count": null,
      "metadata": {
        "colab": {
          "base_uri": "https://localhost:8080/"
        },
        "id": "z9B7Ec4Um2b4",
        "outputId": "2be545c1-6860-4a74-cf2d-631d3010c9ea"
      },
      "outputs": [
        {
          "output_type": "stream",
          "name": "stdout",
          "text": [
            "handling missing values..\n",
            "(1482535, 8)\n",
            "(693359, 7)\n"
          ]
        }
      ],
      "source": [
        "# handle missing values\n",
        "print(\"handling missing values..\")\n",
        "def handle_missing(dataset):\n",
        "    dataset.category_name.fillna(value=\"missing\", inplace=True)\n",
        "    dataset.brand_name.fillna(value=\"missing\", inplace=True)\n",
        "    dataset.item_description.fillna(value=\"missing\", inplace=True)\n",
        "    return (dataset)\n",
        "\n",
        "train = handle_missing(train)\n",
        "test = handle_missing(test)\n",
        "print(train.shape)\n",
        "print(test.shape)"
      ]
    },
    {
      "cell_type": "code",
      "execution_count": null,
      "metadata": {
        "colab": {
          "base_uri": "https://localhost:8080/",
          "height": 320
        },
        "id": "cIwcyoOhqEc5",
        "outputId": "380bc635-273f-4b74-9f02-5f775d22b80b"
      },
      "outputs": [
        {
          "output_type": "execute_result",
          "data": {
            "text/plain": [
              "   train_id                                 name  item_condition_id  \\\n",
              "0         0  MLB Cincinnati Reds T Shirt Size XL                  3   \n",
              "1         1     Razer BlackWidow Chroma Keyboard                  3   \n",
              "2         2                       AVA-VIV Blouse                  1   \n",
              "3         3                Leather Horse Statues                  1   \n",
              "4         4                 24K GOLD plated rose                  1   \n",
              "\n",
              "                                       category_name brand_name  price  \\\n",
              "0                                  Men/Tops/T-shirts    missing   10.0   \n",
              "1  Electronics/Computers & Tablets/Components & P...      Razer   52.0   \n",
              "2                        Women/Tops & Blouses/Blouse     Target   10.0   \n",
              "3                 Home/Home Décor/Home Décor Accents    missing   35.0   \n",
              "4                            Women/Jewelry/Necklaces    missing   44.0   \n",
              "\n",
              "   shipping                                   item_description  \n",
              "0         1                                 No description yet  \n",
              "1         0  This keyboard is in great condition and works ...  \n",
              "2         1  Adorable top with a hint of lace and a key hol...  \n",
              "3         1  New with tags. Leather horses. Retail for [rm]...  \n",
              "4         0          Complete with certificate of authenticity  "
            ],
            "text/html": [
              "\n",
              "  <div id=\"df-00770a0c-6481-43fc-87aa-a9f971903c74\">\n",
              "    <div class=\"colab-df-container\">\n",
              "      <div>\n",
              "<style scoped>\n",
              "    .dataframe tbody tr th:only-of-type {\n",
              "        vertical-align: middle;\n",
              "    }\n",
              "\n",
              "    .dataframe tbody tr th {\n",
              "        vertical-align: top;\n",
              "    }\n",
              "\n",
              "    .dataframe thead th {\n",
              "        text-align: right;\n",
              "    }\n",
              "</style>\n",
              "<table border=\"1\" class=\"dataframe\">\n",
              "  <thead>\n",
              "    <tr style=\"text-align: right;\">\n",
              "      <th></th>\n",
              "      <th>train_id</th>\n",
              "      <th>name</th>\n",
              "      <th>item_condition_id</th>\n",
              "      <th>category_name</th>\n",
              "      <th>brand_name</th>\n",
              "      <th>price</th>\n",
              "      <th>shipping</th>\n",
              "      <th>item_description</th>\n",
              "    </tr>\n",
              "  </thead>\n",
              "  <tbody>\n",
              "    <tr>\n",
              "      <th>0</th>\n",
              "      <td>0</td>\n",
              "      <td>MLB Cincinnati Reds T Shirt Size XL</td>\n",
              "      <td>3</td>\n",
              "      <td>Men/Tops/T-shirts</td>\n",
              "      <td>missing</td>\n",
              "      <td>10.0</td>\n",
              "      <td>1</td>\n",
              "      <td>No description yet</td>\n",
              "    </tr>\n",
              "    <tr>\n",
              "      <th>1</th>\n",
              "      <td>1</td>\n",
              "      <td>Razer BlackWidow Chroma Keyboard</td>\n",
              "      <td>3</td>\n",
              "      <td>Electronics/Computers &amp; Tablets/Components &amp; P...</td>\n",
              "      <td>Razer</td>\n",
              "      <td>52.0</td>\n",
              "      <td>0</td>\n",
              "      <td>This keyboard is in great condition and works ...</td>\n",
              "    </tr>\n",
              "    <tr>\n",
              "      <th>2</th>\n",
              "      <td>2</td>\n",
              "      <td>AVA-VIV Blouse</td>\n",
              "      <td>1</td>\n",
              "      <td>Women/Tops &amp; Blouses/Blouse</td>\n",
              "      <td>Target</td>\n",
              "      <td>10.0</td>\n",
              "      <td>1</td>\n",
              "      <td>Adorable top with a hint of lace and a key hol...</td>\n",
              "    </tr>\n",
              "    <tr>\n",
              "      <th>3</th>\n",
              "      <td>3</td>\n",
              "      <td>Leather Horse Statues</td>\n",
              "      <td>1</td>\n",
              "      <td>Home/Home Décor/Home Décor Accents</td>\n",
              "      <td>missing</td>\n",
              "      <td>35.0</td>\n",
              "      <td>1</td>\n",
              "      <td>New with tags. Leather horses. Retail for [rm]...</td>\n",
              "    </tr>\n",
              "    <tr>\n",
              "      <th>4</th>\n",
              "      <td>4</td>\n",
              "      <td>24K GOLD plated rose</td>\n",
              "      <td>1</td>\n",
              "      <td>Women/Jewelry/Necklaces</td>\n",
              "      <td>missing</td>\n",
              "      <td>44.0</td>\n",
              "      <td>0</td>\n",
              "      <td>Complete with certificate of authenticity</td>\n",
              "    </tr>\n",
              "  </tbody>\n",
              "</table>\n",
              "</div>\n",
              "      <button class=\"colab-df-convert\" onclick=\"convertToInteractive('df-00770a0c-6481-43fc-87aa-a9f971903c74')\"\n",
              "              title=\"Convert this dataframe to an interactive table.\"\n",
              "              style=\"display:none;\">\n",
              "        \n",
              "  <svg xmlns=\"http://www.w3.org/2000/svg\" height=\"24px\"viewBox=\"0 0 24 24\"\n",
              "       width=\"24px\">\n",
              "    <path d=\"M0 0h24v24H0V0z\" fill=\"none\"/>\n",
              "    <path d=\"M18.56 5.44l.94 2.06.94-2.06 2.06-.94-2.06-.94-.94-2.06-.94 2.06-2.06.94zm-11 1L8.5 8.5l.94-2.06 2.06-.94-2.06-.94L8.5 2.5l-.94 2.06-2.06.94zm10 10l.94 2.06.94-2.06 2.06-.94-2.06-.94-.94-2.06-.94 2.06-2.06.94z\"/><path d=\"M17.41 7.96l-1.37-1.37c-.4-.4-.92-.59-1.43-.59-.52 0-1.04.2-1.43.59L10.3 9.45l-7.72 7.72c-.78.78-.78 2.05 0 2.83L4 21.41c.39.39.9.59 1.41.59.51 0 1.02-.2 1.41-.59l7.78-7.78 2.81-2.81c.8-.78.8-2.07 0-2.86zM5.41 20L4 18.59l7.72-7.72 1.47 1.35L5.41 20z\"/>\n",
              "  </svg>\n",
              "      </button>\n",
              "      \n",
              "  <style>\n",
              "    .colab-df-container {\n",
              "      display:flex;\n",
              "      flex-wrap:wrap;\n",
              "      gap: 12px;\n",
              "    }\n",
              "\n",
              "    .colab-df-convert {\n",
              "      background-color: #E8F0FE;\n",
              "      border: none;\n",
              "      border-radius: 50%;\n",
              "      cursor: pointer;\n",
              "      display: none;\n",
              "      fill: #1967D2;\n",
              "      height: 32px;\n",
              "      padding: 0 0 0 0;\n",
              "      width: 32px;\n",
              "    }\n",
              "\n",
              "    .colab-df-convert:hover {\n",
              "      background-color: #E2EBFA;\n",
              "      box-shadow: 0px 1px 2px rgba(60, 64, 67, 0.3), 0px 1px 3px 1px rgba(60, 64, 67, 0.15);\n",
              "      fill: #174EA6;\n",
              "    }\n",
              "\n",
              "    [theme=dark] .colab-df-convert {\n",
              "      background-color: #3B4455;\n",
              "      fill: #D2E3FC;\n",
              "    }\n",
              "\n",
              "    [theme=dark] .colab-df-convert:hover {\n",
              "      background-color: #434B5C;\n",
              "      box-shadow: 0px 1px 3px 1px rgba(0, 0, 0, 0.15);\n",
              "      filter: drop-shadow(0px 1px 2px rgba(0, 0, 0, 0.3));\n",
              "      fill: #FFFFFF;\n",
              "    }\n",
              "  </style>\n",
              "\n",
              "      <script>\n",
              "        const buttonEl =\n",
              "          document.querySelector('#df-00770a0c-6481-43fc-87aa-a9f971903c74 button.colab-df-convert');\n",
              "        buttonEl.style.display =\n",
              "          google.colab.kernel.accessAllowed ? 'block' : 'none';\n",
              "\n",
              "        async function convertToInteractive(key) {\n",
              "          const element = document.querySelector('#df-00770a0c-6481-43fc-87aa-a9f971903c74');\n",
              "          const dataTable =\n",
              "            await google.colab.kernel.invokeFunction('convertToInteractive',\n",
              "                                                     [key], {});\n",
              "          if (!dataTable) return;\n",
              "\n",
              "          const docLinkHtml = 'Like what you see? Visit the ' +\n",
              "            '<a target=\"_blank\" href=https://colab.research.google.com/notebooks/data_table.ipynb>data table notebook</a>'\n",
              "            + ' to learn more about interactive tables.';\n",
              "          element.innerHTML = '';\n",
              "          dataTable['output_type'] = 'display_data';\n",
              "          await google.colab.output.renderOutput(dataTable, element);\n",
              "          const docLink = document.createElement('div');\n",
              "          docLink.innerHTML = docLinkHtml;\n",
              "          element.appendChild(docLink);\n",
              "        }\n",
              "      </script>\n",
              "    </div>\n",
              "  </div>\n",
              "  "
            ]
          },
          "metadata": {},
          "execution_count": 7
        }
      ],
      "source": [
        "train.head(5)"
      ]
    },
    {
      "cell_type": "markdown",
      "metadata": {
        "id": "LHVcdfnYp9ZE"
      },
      "source": [
        "결측치를 `missing`으로 잘 대체했습니다."
      ]
    },
    {
      "cell_type": "markdown",
      "metadata": {
        "id": "2lt0SgoPrlmy"
      },
      "source": [
        "### 범주 데이터 처리"
      ]
    },
    {
      "cell_type": "code",
      "execution_count": null,
      "metadata": {
        "colab": {
          "base_uri": "https://localhost:8080/"
        },
        "id": "QvXKpDrhsulQ",
        "outputId": "b3010d5c-cf3a-4196-f851-4786378f1edd"
      },
      "outputs": [
        {
          "output_type": "execute_result",
          "data": {
            "text/plain": [
              "0                                          Men/Tops/T-shirts\n",
              "1          Electronics/Computers & Tablets/Components & P...\n",
              "2                                Women/Tops & Blouses/Blouse\n",
              "3                         Home/Home Décor/Home Décor Accents\n",
              "4                                    Women/Jewelry/Necklaces\n",
              "                                 ...                        \n",
              "1482530                               Women/Dresses/Mid-Calf\n",
              "1482531                             Kids/Girls 2T-5T/Dresses\n",
              "1482532       Sports & Outdoors/Exercise/Fitness accessories\n",
              "1482533                   Home/Home Décor/Home Décor Accents\n",
              "1482534                    Women/Women's Accessories/Wallets\n",
              "Name: category_name, Length: 1482535, dtype: object"
            ]
          },
          "metadata": {},
          "execution_count": 8
        }
      ],
      "source": [
        "train.category_name"
      ]
    },
    {
      "cell_type": "code",
      "execution_count": null,
      "metadata": {
        "colab": {
          "base_uri": "https://localhost:8080/"
        },
        "id": "In4V3E5psvtI",
        "outputId": "744f6560-2e77-47fb-a36f-1a959d09395c"
      },
      "outputs": [
        {
          "output_type": "execute_result",
          "data": {
            "text/plain": [
              "0                                       Women/Jewelry/Rings\n",
              "1                   Other/Office supplies/Shipping Supplies\n",
              "2            Vintage & Collectibles/Bags and Purses/Handbag\n",
              "3                                   Women/Sweaters/Cardigan\n",
              "4                       Other/Books/Religion & Spirituality\n",
              "                                ...                        \n",
              "693354                   Home/Home Décor/Home Décor Accents\n",
              "693355                            Beauty/Makeup/Makeup Sets\n",
              "693356    Electronics/Cell Phones & Accessories/Cases, C...\n",
              "693357                             Women/Swimwear/Cover-Ups\n",
              "693358                        Women/Tops & Blouses/T-Shirts\n",
              "Name: category_name, Length: 693359, dtype: object"
            ]
          },
          "metadata": {},
          "execution_count": 9
        }
      ],
      "source": [
        "test.category_name"
      ]
    },
    {
      "cell_type": "code",
      "execution_count": null,
      "metadata": {
        "colab": {
          "base_uri": "https://localhost:8080/"
        },
        "id": "2RoBrsTZsjHs",
        "outputId": "f4a8f6f4-5d8d-4b7c-e720-b34d4e41a86c"
      },
      "outputs": [
        {
          "output_type": "stream",
          "name": "stdout",
          "text": [
            "['Men/Tops/T-shirts' 'Electronics/Computers & Tablets/Components & Parts'\n",
            " 'Women/Tops & Blouses/Blouse' ...\n",
            " 'Electronics/Cell Phones & Accessories/Cases, Covers & Skins'\n",
            " 'Women/Swimwear/Cover-Ups' 'Women/Tops & Blouses/T-Shirts']\n"
          ]
        }
      ],
      "source": [
        "print(np.hstack([train.category_name, test.category_name]))"
      ]
    },
    {
      "cell_type": "code",
      "execution_count": null,
      "metadata": {
        "colab": {
          "base_uri": "https://localhost:8080/",
          "height": 162
        },
        "id": "rB9HYVqDqTq1",
        "outputId": "55c482ee-d466-4b83-dea0-d7791df30d83"
      },
      "outputs": [
        {
          "output_type": "stream",
          "name": "stdout",
          "text": [
            "handling categorical variables...\n"
          ]
        },
        {
          "output_type": "execute_result",
          "data": {
            "text/plain": [
              "   train_id                                 name  item_condition_id  \\\n",
              "0         0  MLB Cincinnati Reds T Shirt Size XL                  3   \n",
              "1         1     Razer BlackWidow Chroma Keyboard                  3   \n",
              "2         2                       AVA-VIV Blouse                  1   \n",
              "\n",
              "   category_name  brand_name  price  shipping  \\\n",
              "0            829        5265   10.0         1   \n",
              "1             86        3889   52.0         0   \n",
              "2           1277        4588   10.0         1   \n",
              "\n",
              "                                    item_description  \n",
              "0                                 No description yet  \n",
              "1  This keyboard is in great condition and works ...  \n",
              "2  Adorable top with a hint of lace and a key hol...  "
            ],
            "text/html": [
              "\n",
              "  <div id=\"df-2557467f-7989-4b38-9ac7-10bd9b1ecade\">\n",
              "    <div class=\"colab-df-container\">\n",
              "      <div>\n",
              "<style scoped>\n",
              "    .dataframe tbody tr th:only-of-type {\n",
              "        vertical-align: middle;\n",
              "    }\n",
              "\n",
              "    .dataframe tbody tr th {\n",
              "        vertical-align: top;\n",
              "    }\n",
              "\n",
              "    .dataframe thead th {\n",
              "        text-align: right;\n",
              "    }\n",
              "</style>\n",
              "<table border=\"1\" class=\"dataframe\">\n",
              "  <thead>\n",
              "    <tr style=\"text-align: right;\">\n",
              "      <th></th>\n",
              "      <th>train_id</th>\n",
              "      <th>name</th>\n",
              "      <th>item_condition_id</th>\n",
              "      <th>category_name</th>\n",
              "      <th>brand_name</th>\n",
              "      <th>price</th>\n",
              "      <th>shipping</th>\n",
              "      <th>item_description</th>\n",
              "    </tr>\n",
              "  </thead>\n",
              "  <tbody>\n",
              "    <tr>\n",
              "      <th>0</th>\n",
              "      <td>0</td>\n",
              "      <td>MLB Cincinnati Reds T Shirt Size XL</td>\n",
              "      <td>3</td>\n",
              "      <td>829</td>\n",
              "      <td>5265</td>\n",
              "      <td>10.0</td>\n",
              "      <td>1</td>\n",
              "      <td>No description yet</td>\n",
              "    </tr>\n",
              "    <tr>\n",
              "      <th>1</th>\n",
              "      <td>1</td>\n",
              "      <td>Razer BlackWidow Chroma Keyboard</td>\n",
              "      <td>3</td>\n",
              "      <td>86</td>\n",
              "      <td>3889</td>\n",
              "      <td>52.0</td>\n",
              "      <td>0</td>\n",
              "      <td>This keyboard is in great condition and works ...</td>\n",
              "    </tr>\n",
              "    <tr>\n",
              "      <th>2</th>\n",
              "      <td>2</td>\n",
              "      <td>AVA-VIV Blouse</td>\n",
              "      <td>1</td>\n",
              "      <td>1277</td>\n",
              "      <td>4588</td>\n",
              "      <td>10.0</td>\n",
              "      <td>1</td>\n",
              "      <td>Adorable top with a hint of lace and a key hol...</td>\n",
              "    </tr>\n",
              "  </tbody>\n",
              "</table>\n",
              "</div>\n",
              "      <button class=\"colab-df-convert\" onclick=\"convertToInteractive('df-2557467f-7989-4b38-9ac7-10bd9b1ecade')\"\n",
              "              title=\"Convert this dataframe to an interactive table.\"\n",
              "              style=\"display:none;\">\n",
              "        \n",
              "  <svg xmlns=\"http://www.w3.org/2000/svg\" height=\"24px\"viewBox=\"0 0 24 24\"\n",
              "       width=\"24px\">\n",
              "    <path d=\"M0 0h24v24H0V0z\" fill=\"none\"/>\n",
              "    <path d=\"M18.56 5.44l.94 2.06.94-2.06 2.06-.94-2.06-.94-.94-2.06-.94 2.06-2.06.94zm-11 1L8.5 8.5l.94-2.06 2.06-.94-2.06-.94L8.5 2.5l-.94 2.06-2.06.94zm10 10l.94 2.06.94-2.06 2.06-.94-2.06-.94-.94-2.06-.94 2.06-2.06.94z\"/><path d=\"M17.41 7.96l-1.37-1.37c-.4-.4-.92-.59-1.43-.59-.52 0-1.04.2-1.43.59L10.3 9.45l-7.72 7.72c-.78.78-.78 2.05 0 2.83L4 21.41c.39.39.9.59 1.41.59.51 0 1.02-.2 1.41-.59l7.78-7.78 2.81-2.81c.8-.78.8-2.07 0-2.86zM5.41 20L4 18.59l7.72-7.72 1.47 1.35L5.41 20z\"/>\n",
              "  </svg>\n",
              "      </button>\n",
              "      \n",
              "  <style>\n",
              "    .colab-df-container {\n",
              "      display:flex;\n",
              "      flex-wrap:wrap;\n",
              "      gap: 12px;\n",
              "    }\n",
              "\n",
              "    .colab-df-convert {\n",
              "      background-color: #E8F0FE;\n",
              "      border: none;\n",
              "      border-radius: 50%;\n",
              "      cursor: pointer;\n",
              "      display: none;\n",
              "      fill: #1967D2;\n",
              "      height: 32px;\n",
              "      padding: 0 0 0 0;\n",
              "      width: 32px;\n",
              "    }\n",
              "\n",
              "    .colab-df-convert:hover {\n",
              "      background-color: #E2EBFA;\n",
              "      box-shadow: 0px 1px 2px rgba(60, 64, 67, 0.3), 0px 1px 3px 1px rgba(60, 64, 67, 0.15);\n",
              "      fill: #174EA6;\n",
              "    }\n",
              "\n",
              "    [theme=dark] .colab-df-convert {\n",
              "      background-color: #3B4455;\n",
              "      fill: #D2E3FC;\n",
              "    }\n",
              "\n",
              "    [theme=dark] .colab-df-convert:hover {\n",
              "      background-color: #434B5C;\n",
              "      box-shadow: 0px 1px 3px 1px rgba(0, 0, 0, 0.15);\n",
              "      filter: drop-shadow(0px 1px 2px rgba(0, 0, 0, 0.3));\n",
              "      fill: #FFFFFF;\n",
              "    }\n",
              "  </style>\n",
              "\n",
              "      <script>\n",
              "        const buttonEl =\n",
              "          document.querySelector('#df-2557467f-7989-4b38-9ac7-10bd9b1ecade button.colab-df-convert');\n",
              "        buttonEl.style.display =\n",
              "          google.colab.kernel.accessAllowed ? 'block' : 'none';\n",
              "\n",
              "        async function convertToInteractive(key) {\n",
              "          const element = document.querySelector('#df-2557467f-7989-4b38-9ac7-10bd9b1ecade');\n",
              "          const dataTable =\n",
              "            await google.colab.kernel.invokeFunction('convertToInteractive',\n",
              "                                                     [key], {});\n",
              "          if (!dataTable) return;\n",
              "\n",
              "          const docLinkHtml = 'Like what you see? Visit the ' +\n",
              "            '<a target=\"_blank\" href=https://colab.research.google.com/notebooks/data_table.ipynb>data table notebook</a>'\n",
              "            + ' to learn more about interactive tables.';\n",
              "          element.innerHTML = '';\n",
              "          dataTable['output_type'] = 'display_data';\n",
              "          await google.colab.output.renderOutput(dataTable, element);\n",
              "          const docLink = document.createElement('div');\n",
              "          docLink.innerHTML = docLinkHtml;\n",
              "          element.appendChild(docLink);\n",
              "        }\n",
              "      </script>\n",
              "    </div>\n",
              "  </div>\n",
              "  "
            ]
          },
          "metadata": {},
          "execution_count": 11
        }
      ],
      "source": [
        "# Process Categorical data\n",
        "print('handling categorical variables...')\n",
        "le = LabelEncoder()\n",
        "\n",
        "# category name\n",
        "le.fit(np.hstack([train.category_name, test.category_name]))\n",
        "# train, test의 category name을 가로로 합쳐서 피팅\n",
        "train.category_name = le.transform(train.category_name)\n",
        "test.category_name = le.transform(test.category_name)\n",
        "# 라벨링해줌\n",
        "\n",
        "# brand name\n",
        "le.fit(np.hstack([train.brand_name, test.brand_name]))\n",
        "train.brand_name = le.transform(train.brand_name)\n",
        "test.brand_name = le.transform(test.brand_name)\n",
        "del le\n",
        "\n",
        "train.head(3)"
      ]
    },
    {
      "cell_type": "markdown",
      "metadata": {
        "id": "hUwqraLPuv6Q"
      },
      "source": [
        "category name과 brand_name이 잘 라벨링 됐습니다."
      ]
    },
    {
      "cell_type": "markdown",
      "metadata": {
        "id": "OPW84XQnxxv4"
      },
      "source": [
        "### 텍스트 다루기 : 토큰화"
      ]
    },
    {
      "cell_type": "markdown",
      "metadata": {
        "id": "QeuEbWfzyOFJ"
      },
      "source": [
        "문장으로 되어 있는 item description과 name은 token화 시켜줍니다."
      ]
    },
    {
      "cell_type": "code",
      "execution_count": null,
      "metadata": {
        "colab": {
          "base_uri": "https://localhost:8080/",
          "height": 296
        },
        "id": "-DJlG2QbvXs7",
        "outputId": "285037ac-4d39-4cc1-9446-6a4fd8619ad8"
      },
      "outputs": [
        {
          "output_type": "stream",
          "name": "stdout",
          "text": [
            "text to seq process...\n",
            "   Fitting tokenizer...\n",
            "   Transforming text to seq...\n"
          ]
        },
        {
          "output_type": "execute_result",
          "data": {
            "text/plain": [
              "   train_id                                 name  item_condition_id  \\\n",
              "0         0  MLB Cincinnati Reds T Shirt Size XL                  3   \n",
              "1         1     Razer BlackWidow Chroma Keyboard                  3   \n",
              "2         2                       AVA-VIV Blouse                  1   \n",
              "\n",
              "   category_name  brand_name  price  shipping  \\\n",
              "0            829        5265   10.0         1   \n",
              "1             86        3889   52.0         0   \n",
              "2           1277        4588   10.0         1   \n",
              "\n",
              "                                    item_description  \\\n",
              "0                                 No description yet   \n",
              "1  This keyboard is in great condition and works ...   \n",
              "2  Adorable top with a hint of lace and a key hol...   \n",
              "\n",
              "                                seq_item_description  \\\n",
              "0                                       [12, 68, 79]   \n",
              "1  [29, 2627, 10, 7, 39, 17, 1, 207, 51, 19, 1113...   \n",
              "2  [604, 60, 9, 4, 5347, 11, 192, 1, 4, 886, 1290...   \n",
              "\n",
              "                              seq_name  \n",
              "0  [3852, 8823, 6896, 208, 84, 6, 155]  \n",
              "1          [10760, 25565, 16369, 2627]  \n",
              "2                   [7634, 10563, 666]  "
            ],
            "text/html": [
              "\n",
              "  <div id=\"df-deddaf9e-172a-4cbb-b489-a01f5c8bda0e\">\n",
              "    <div class=\"colab-df-container\">\n",
              "      <div>\n",
              "<style scoped>\n",
              "    .dataframe tbody tr th:only-of-type {\n",
              "        vertical-align: middle;\n",
              "    }\n",
              "\n",
              "    .dataframe tbody tr th {\n",
              "        vertical-align: top;\n",
              "    }\n",
              "\n",
              "    .dataframe thead th {\n",
              "        text-align: right;\n",
              "    }\n",
              "</style>\n",
              "<table border=\"1\" class=\"dataframe\">\n",
              "  <thead>\n",
              "    <tr style=\"text-align: right;\">\n",
              "      <th></th>\n",
              "      <th>train_id</th>\n",
              "      <th>name</th>\n",
              "      <th>item_condition_id</th>\n",
              "      <th>category_name</th>\n",
              "      <th>brand_name</th>\n",
              "      <th>price</th>\n",
              "      <th>shipping</th>\n",
              "      <th>item_description</th>\n",
              "      <th>seq_item_description</th>\n",
              "      <th>seq_name</th>\n",
              "    </tr>\n",
              "  </thead>\n",
              "  <tbody>\n",
              "    <tr>\n",
              "      <th>0</th>\n",
              "      <td>0</td>\n",
              "      <td>MLB Cincinnati Reds T Shirt Size XL</td>\n",
              "      <td>3</td>\n",
              "      <td>829</td>\n",
              "      <td>5265</td>\n",
              "      <td>10.0</td>\n",
              "      <td>1</td>\n",
              "      <td>No description yet</td>\n",
              "      <td>[12, 68, 79]</td>\n",
              "      <td>[3852, 8823, 6896, 208, 84, 6, 155]</td>\n",
              "    </tr>\n",
              "    <tr>\n",
              "      <th>1</th>\n",
              "      <td>1</td>\n",
              "      <td>Razer BlackWidow Chroma Keyboard</td>\n",
              "      <td>3</td>\n",
              "      <td>86</td>\n",
              "      <td>3889</td>\n",
              "      <td>52.0</td>\n",
              "      <td>0</td>\n",
              "      <td>This keyboard is in great condition and works ...</td>\n",
              "      <td>[29, 2627, 10, 7, 39, 17, 1, 207, 51, 19, 1113...</td>\n",
              "      <td>[10760, 25565, 16369, 2627]</td>\n",
              "    </tr>\n",
              "    <tr>\n",
              "      <th>2</th>\n",
              "      <td>2</td>\n",
              "      <td>AVA-VIV Blouse</td>\n",
              "      <td>1</td>\n",
              "      <td>1277</td>\n",
              "      <td>4588</td>\n",
              "      <td>10.0</td>\n",
              "      <td>1</td>\n",
              "      <td>Adorable top with a hint of lace and a key hol...</td>\n",
              "      <td>[604, 60, 9, 4, 5347, 11, 192, 1, 4, 886, 1290...</td>\n",
              "      <td>[7634, 10563, 666]</td>\n",
              "    </tr>\n",
              "  </tbody>\n",
              "</table>\n",
              "</div>\n",
              "      <button class=\"colab-df-convert\" onclick=\"convertToInteractive('df-deddaf9e-172a-4cbb-b489-a01f5c8bda0e')\"\n",
              "              title=\"Convert this dataframe to an interactive table.\"\n",
              "              style=\"display:none;\">\n",
              "        \n",
              "  <svg xmlns=\"http://www.w3.org/2000/svg\" height=\"24px\"viewBox=\"0 0 24 24\"\n",
              "       width=\"24px\">\n",
              "    <path d=\"M0 0h24v24H0V0z\" fill=\"none\"/>\n",
              "    <path d=\"M18.56 5.44l.94 2.06.94-2.06 2.06-.94-2.06-.94-.94-2.06-.94 2.06-2.06.94zm-11 1L8.5 8.5l.94-2.06 2.06-.94-2.06-.94L8.5 2.5l-.94 2.06-2.06.94zm10 10l.94 2.06.94-2.06 2.06-.94-2.06-.94-.94-2.06-.94 2.06-2.06.94z\"/><path d=\"M17.41 7.96l-1.37-1.37c-.4-.4-.92-.59-1.43-.59-.52 0-1.04.2-1.43.59L10.3 9.45l-7.72 7.72c-.78.78-.78 2.05 0 2.83L4 21.41c.39.39.9.59 1.41.59.51 0 1.02-.2 1.41-.59l7.78-7.78 2.81-2.81c.8-.78.8-2.07 0-2.86zM5.41 20L4 18.59l7.72-7.72 1.47 1.35L5.41 20z\"/>\n",
              "  </svg>\n",
              "      </button>\n",
              "      \n",
              "  <style>\n",
              "    .colab-df-container {\n",
              "      display:flex;\n",
              "      flex-wrap:wrap;\n",
              "      gap: 12px;\n",
              "    }\n",
              "\n",
              "    .colab-df-convert {\n",
              "      background-color: #E8F0FE;\n",
              "      border: none;\n",
              "      border-radius: 50%;\n",
              "      cursor: pointer;\n",
              "      display: none;\n",
              "      fill: #1967D2;\n",
              "      height: 32px;\n",
              "      padding: 0 0 0 0;\n",
              "      width: 32px;\n",
              "    }\n",
              "\n",
              "    .colab-df-convert:hover {\n",
              "      background-color: #E2EBFA;\n",
              "      box-shadow: 0px 1px 2px rgba(60, 64, 67, 0.3), 0px 1px 3px 1px rgba(60, 64, 67, 0.15);\n",
              "      fill: #174EA6;\n",
              "    }\n",
              "\n",
              "    [theme=dark] .colab-df-convert {\n",
              "      background-color: #3B4455;\n",
              "      fill: #D2E3FC;\n",
              "    }\n",
              "\n",
              "    [theme=dark] .colab-df-convert:hover {\n",
              "      background-color: #434B5C;\n",
              "      box-shadow: 0px 1px 3px 1px rgba(0, 0, 0, 0.15);\n",
              "      filter: drop-shadow(0px 1px 2px rgba(0, 0, 0, 0.3));\n",
              "      fill: #FFFFFF;\n",
              "    }\n",
              "  </style>\n",
              "\n",
              "      <script>\n",
              "        const buttonEl =\n",
              "          document.querySelector('#df-deddaf9e-172a-4cbb-b489-a01f5c8bda0e button.colab-df-convert');\n",
              "        buttonEl.style.display =\n",
              "          google.colab.kernel.accessAllowed ? 'block' : 'none';\n",
              "\n",
              "        async function convertToInteractive(key) {\n",
              "          const element = document.querySelector('#df-deddaf9e-172a-4cbb-b489-a01f5c8bda0e');\n",
              "          const dataTable =\n",
              "            await google.colab.kernel.invokeFunction('convertToInteractive',\n",
              "                                                     [key], {});\n",
              "          if (!dataTable) return;\n",
              "\n",
              "          const docLinkHtml = 'Like what you see? Visit the ' +\n",
              "            '<a target=\"_blank\" href=https://colab.research.google.com/notebooks/data_table.ipynb>data table notebook</a>'\n",
              "            + ' to learn more about interactive tables.';\n",
              "          element.innerHTML = '';\n",
              "          dataTable['output_type'] = 'display_data';\n",
              "          await google.colab.output.renderOutput(dataTable, element);\n",
              "          const docLink = document.createElement('div');\n",
              "          docLink.innerHTML = docLinkHtml;\n",
              "          element.appendChild(docLink);\n",
              "        }\n",
              "      </script>\n",
              "    </div>\n",
              "  </div>\n",
              "  "
            ]
          },
          "metadata": {},
          "execution_count": 12
        }
      ],
      "source": [
        "# process text : RAW\n",
        "print(\"text to seq process...\")\n",
        "from keras.preprocessing.text import Tokenizer\n",
        "raw_text = np.hstack([train.item_description.str.lower(), train.name.str.lower()])\n",
        "# 소문자로 변환해서 가로로 쌓아줌\n",
        "\n",
        "print(\"   Fitting tokenizer...\")\n",
        "tok_raw = Tokenizer()\n",
        "tok_raw.fit_on_texts(raw_text)\n",
        "# 가로로 쌓은거 토큰화\n",
        "print(\"   Transforming text to seq...\")\n",
        "\n",
        "train[\"seq_item_description\"] = tok_raw.texts_to_sequences(train.item_description.str.lower())\n",
        "test[\"seq_item_description\"] = tok_raw.texts_to_sequences(test.item_description.str.lower())\n",
        "train[\"seq_name\"] = tok_raw.texts_to_sequences(train.name.str.lower())\n",
        "test[\"seq_name\"] = tok_raw.texts_to_sequences(test.name.str.lower())\n",
        "# tokenize한 것들로 sequences로 바꿔줍니다.\n",
        "train.head(3)"
      ]
    },
    {
      "cell_type": "markdown",
      "metadata": {
        "id": "VFyDmhpGz3pw"
      },
      "source": [
        "새로 추가된 열을 보면 토큰화된 단어들을 이용, 시퀀스로 잘 변환된 것을 확인할 수 있습니다."
      ]
    },
    {
      "cell_type": "markdown",
      "metadata": {
        "id": "KkxwPzHF09iO"
      },
      "source": [
        "### 시퀀스 변수 분석"
      ]
    },
    {
      "cell_type": "code",
      "execution_count": null,
      "metadata": {
        "colab": {
          "base_uri": "https://localhost:8080/"
        },
        "id": "7_p7NXck0C7d",
        "outputId": "dc8f1cf0-52e1-46fd-c1a7-64a492d70a1d"
      },
      "outputs": [
        {
          "output_type": "stream",
          "name": "stdout",
          "text": [
            "max name seq 17\n",
            "max item desc seq 269\n"
          ]
        }
      ],
      "source": [
        "#SEQUENCES VARIABLES ANALYSIS\n",
        "max_name_seq = np.max([np.max(train.seq_name.apply(lambda x: len(x))), np.max(test.seq_name.apply(lambda x: len(x)))])\n",
        "# train, test각각 seq로 변환된 name의 개수 세서 그중 최대값 구하고 그 둘중 최종 최대값을 구함\n",
        "max_seq_item_description = np.max([np.max(train.seq_item_description.apply(lambda x: len(x)))\n",
        "                                   , np.max(test.seq_item_description.apply(lambda x: len(x)))])\n",
        "# item description도 마찬가지\n",
        "print(\"max name seq \"+str(max_name_seq))\n",
        "print(\"max item desc seq \"+str(max_seq_item_description))"
      ]
    },
    {
      "cell_type": "code",
      "execution_count": null,
      "metadata": {
        "colab": {
          "base_uri": "https://localhost:8080/"
        },
        "id": "WV9hsuhU3BHk",
        "outputId": "5679f265-fbaf-4e2f-abe5-93896a7c7c1a"
      },
      "outputs": [
        {
          "output_type": "execute_result",
          "data": {
            "text/plain": [
              "0          7\n",
              "1          4\n",
              "2          3\n",
              "3          3\n",
              "4          4\n",
              "          ..\n",
              "1482530    4\n",
              "1482531    4\n",
              "1482532    7\n",
              "1482533    3\n",
              "1482534    6\n",
              "Name: seq_name, Length: 1482535, dtype: int64"
            ]
          },
          "metadata": {},
          "execution_count": 14
        }
      ],
      "source": [
        "train.seq_name.apply(lambda x: len(x))"
      ]
    },
    {
      "cell_type": "code",
      "execution_count": null,
      "metadata": {
        "colab": {
          "base_uri": "https://localhost:8080/",
          "height": 284
        },
        "id": "jq7T3Kt41DlN",
        "outputId": "7ca8d226-108e-414c-899c-509110d1721d"
      },
      "outputs": [
        {
          "output_type": "execute_result",
          "data": {
            "text/plain": [
              "<matplotlib.axes._subplots.AxesSubplot at 0x7fb54f935990>"
            ]
          },
          "metadata": {},
          "execution_count": 15
        },
        {
          "output_type": "display_data",
          "data": {
            "text/plain": [
              "<Figure size 432x288 with 1 Axes>"
            ],
            "image/png": "[encoded data removed]"
          },
          "metadata": {
            "needs_background": "light"
          }
        }
      ],
      "source": [
        "train.seq_name.apply(lambda x: len(x)).hist()"
      ]
    },
    {
      "cell_type": "markdown",
      "metadata": {
        "id": "AClO04lG1_9B"
      },
      "source": [
        "train 데이터의 seq_name 분포도를 보여주는 히스토그램입니다.  \n",
        "길이가(단어개수가) 5정도인 시퀀스들이 많은 것을 알 수 있습니다."
      ]
    },
    {
      "cell_type": "code",
      "execution_count": null,
      "metadata": {
        "colab": {
          "base_uri": "https://localhost:8080/"
        },
        "id": "qOWg680y4N6H",
        "outputId": "89c6d632-ed3e-4137-d29f-108b2e5b7d38"
      },
      "outputs": [
        {
          "output_type": "execute_result",
          "data": {
            "text/plain": [
              "0           3\n",
              "1          36\n",
              "2          29\n",
              "3          32\n",
              "4           5\n",
              "           ..\n",
              "1482530    22\n",
              "1482531     8\n",
              "1482532     8\n",
              "1482533    28\n",
              "1482534    11\n",
              "Name: seq_item_description, Length: 1482535, dtype: int64"
            ]
          },
          "metadata": {},
          "execution_count": 16
        }
      ],
      "source": [
        "train.seq_item_description.apply(lambda x: len(x))"
      ]
    },
    {
      "cell_type": "code",
      "execution_count": null,
      "metadata": {
        "colab": {
          "base_uri": "https://localhost:8080/",
          "height": 295
        },
        "id": "Lnr9UBOx2HNZ",
        "outputId": "20323829-6bfc-4cb1-df2d-78bfbaa23ae9"
      },
      "outputs": [
        {
          "output_type": "execute_result",
          "data": {
            "text/plain": [
              "<matplotlib.axes._subplots.AxesSubplot at 0x7fb52090bb50>"
            ]
          },
          "metadata": {},
          "execution_count": 17
        },
        {
          "output_type": "display_data",
          "data": {
            "text/plain": [
              "<Figure size 432x288 with 1 Axes>"
            ],
            "image/png": "[encoded data removed]"
          },
          "metadata": {
            "needs_background": "light"
          }
        }
      ],
      "source": [
        "train.seq_item_description.apply(lambda x : len(x)).hist()"
      ]
    },
    {
      "cell_type": "markdown",
      "metadata": {
        "id": "8NnVJ1xb2McK"
      },
      "source": [
        "train 데이터의 seq_item_decription 분포입니다.  \n",
        "여기서는 길이가 10~25 사이값이 가장 많고 분포가 넓은편입니다."
      ]
    },
    {
      "cell_type": "markdown",
      "metadata": {
        "id": "Ah7AQlkB4gA3"
      },
      "source": [
        "### Embeddings max value"
      ]
    },
    {
      "cell_type": "code",
      "execution_count": null,
      "metadata": {
        "id": "qlXvVjfp4Y_e"
      },
      "outputs": [],
      "source": [
        "# Embedding max value\n",
        "# base on the histograms, we select the next lengths\n",
        "# 위에서 구한 히스토그램을 바탕으로 max length를 설정해주겠어요\n",
        "MAX_NAME_SEQ = 10\n",
        "MAX_ITEM_DESC_SEQ = 75\n",
        "MAX_TEXT = np.max([np.max(train.seq_name.max())\n",
        "                   , np.max(test.seq_name.max())                 \n",
        "                  , np.max(train.seq_item_description.max())\n",
        "                  , np.max(test.seq_item_description.max())])+2\n",
        "MAX_CATEGORY = np.max([train.category_name.max(), test.category_name.max()])+1\n",
        "MAX_BRAND = np.max([train.brand_name.max(), test.brand_name.max()])+1\n",
        "MAX_CONDITION = np.max([train.item_condition_id.max(), test.item_condition_id.max()])+1"
      ]
    },
    {
      "cell_type": "markdown",
      "metadata": {
        "id": "-B29NWNCAeMt"
      },
      "source": [
        "왜 1? 2? 더해줌?"
      ]
    },
    {
      "cell_type": "code",
      "execution_count": null,
      "metadata": {
        "colab": {
          "base_uri": "https://localhost:8080/"
        },
        "id": "WB0BarvAAiTx",
        "outputId": "0b9bfeab-726d-4e32-ef05-46527f124095"
      },
      "outputs": [
        {
          "output_type": "execute_result",
          "data": {
            "text/plain": [
              "(259088, 5290, 1311, 6)"
            ]
          },
          "metadata": {},
          "execution_count": 19
        }
      ],
      "source": [
        "MAX_TEXT, MAX_BRAND, MAX_CATEGORY, MAX_CONDITION"
      ]
    },
    {
      "cell_type": "markdown",
      "metadata": {
        "id": "w53Ewas-EUdm"
      },
      "source": [
        "### target 변수를 scale해주자"
      ]
    },
    {
      "cell_type": "code",
      "execution_count": null,
      "metadata": {
        "colab": {
          "base_uri": "https://localhost:8080/",
          "height": 319
        },
        "id": "Ea7cTvrkExAf",
        "outputId": "2150513e-3907-4d09-b4fd-b00ff4ecb686"
      },
      "outputs": [
        {
          "output_type": "execute_result",
          "data": {
            "text/plain": [
              "array([[<matplotlib.axes._subplots.AxesSubplot object at 0x7fb52f79e690>]],\n",
              "      dtype=object)"
            ]
          },
          "metadata": {},
          "execution_count": 20
        },
        {
          "output_type": "display_data",
          "data": {
            "text/plain": [
              "<Figure size 432x288 with 1 Axes>"
            ],
            "image/png": "[encoded data removed]"
          },
          "metadata": {
            "needs_background": "light"
          }
        }
      ],
      "source": [
        "pd.DataFrame(train.price).hist()"
      ]
    },
    {
      "cell_type": "markdown",
      "metadata": {
        "id": "6tLTfC2JE1Gu"
      },
      "source": [
        "price가 너무 치우쳐있어요"
      ]
    },
    {
      "cell_type": "code",
      "execution_count": null,
      "metadata": {
        "colab": {
          "base_uri": "https://localhost:8080/"
        },
        "id": "F1gnMD2-EoN-",
        "outputId": "e95f9d96-18fa-41f6-8944-ed24f721c73a"
      },
      "outputs": [
        {
          "output_type": "execute_result",
          "data": {
            "text/plain": [
              "0          10.0\n",
              "1          52.0\n",
              "2          10.0\n",
              "3          35.0\n",
              "4          44.0\n",
              "           ... \n",
              "1482530    20.0\n",
              "1482531    14.0\n",
              "1482532    12.0\n",
              "1482533    45.0\n",
              "1482534    22.0\n",
              "Name: price, Length: 1482535, dtype: float64"
            ]
          },
          "metadata": {},
          "execution_count": 21
        }
      ],
      "source": [
        "train.price"
      ]
    },
    {
      "cell_type": "code",
      "execution_count": null,
      "metadata": {
        "colab": {
          "base_uri": "https://localhost:8080/"
        },
        "id": "c4x23DMzEhw0",
        "outputId": "1d38587b-d8a4-47df-a8c3-92ea7c498332"
      },
      "outputs": [
        {
          "output_type": "execute_result",
          "data": {
            "text/plain": [
              "0          2.397895\n",
              "1          3.970292\n",
              "2          2.397895\n",
              "3          3.583519\n",
              "4          3.806662\n",
              "             ...   \n",
              "1482530    3.044522\n",
              "1482531    2.708050\n",
              "1482532    2.564949\n",
              "1482533    3.828641\n",
              "1482534    3.135494\n",
              "Name: price, Length: 1482535, dtype: float64"
            ]
          },
          "metadata": {},
          "execution_count": 22
        }
      ],
      "source": [
        "a = np.log(train.price+1)\n",
        "a"
      ]
    },
    {
      "cell_type": "code",
      "execution_count": null,
      "metadata": {
        "colab": {
          "base_uri": "https://localhost:8080/",
          "height": 319
        },
        "id": "aKmuFiizA3J7",
        "outputId": "bed9bd11-10d0-4dc3-b623-9741c338062f"
      },
      "outputs": [
        {
          "output_type": "execute_result",
          "data": {
            "text/plain": [
              "array([[<matplotlib.axes._subplots.AxesSubplot object at 0x7fb5524a7290>]],\n",
              "      dtype=object)"
            ]
          },
          "metadata": {},
          "execution_count": 23
        },
        {
          "output_type": "display_data",
          "data": {
            "text/plain": [
              "<Figure size 432x288 with 1 Axes>"
            ],
            "image/png": "[encoded data removed]"
          },
          "metadata": {
            "needs_background": "light"
          }
        }
      ],
      "source": [
        "#SCALE target variable\n",
        "train[\"target\"] = np.log(train.price+1)\n",
        "# 정규분포화하기위해 log(1+x)를 취해줬습니다. \n",
        "\n",
        "target_scaler = MinMaxScaler(feature_range=(-1, 1))\n",
        "# MiinMaxScaler로 0과 1사이 값으로 정규화시켜줬습니다.\n",
        "train[\"target\"] = target_scaler.fit_transform(train.target.values.reshape(-1,1))\n",
        "pd.DataFrame(train.target).hist()"
      ]
    },
    {
      "cell_type": "markdown",
      "metadata": {
        "id": "-5Z1sVKVDhvS"
      },
      "source": [
        "train.target 이 series 자료형이라 reshape이 안돼서 values를 넣어줬당  \n",
        "\n",
        "[참고](https://pandas.pydata.org/pandas-docs/version/0.22/generated/pandas.Series.reshape.html#pandas.Series.reshape)"
      ]
    },
    {
      "cell_type": "markdown",
      "metadata": {
        "id": "YjebWTgElzgj"
      },
      "source": [
        "정규화와 정규분포화가 잘 된것을 볼 수 있습니다."
      ]
    },
    {
      "cell_type": "markdown",
      "metadata": {
        "id": "pDf6Aa8gENMB"
      },
      "source": [
        "### 학습데이터, 훈련데이터 분리"
      ]
    },
    {
      "cell_type": "code",
      "execution_count": null,
      "metadata": {
        "colab": {
          "base_uri": "https://localhost:8080/"
        },
        "id": "lNn2JIw5mR9G",
        "outputId": "3cf20cae-5683-4be0-f4fb-9bb67828e872"
      },
      "outputs": [
        {
          "output_type": "stream",
          "name": "stdout",
          "text": [
            "(1467709, 11)\n",
            "(14826, 11)\n"
          ]
        }
      ],
      "source": [
        "dtrain, dvalid = train_test_split(train, random_state = 123, train_size=0.99)\n",
        "print(dtrain.shape)\n",
        "print(dvalid.shape)"
      ]
    },
    {
      "cell_type": "markdown",
      "metadata": {
        "id": "ZZCEIKa1nkUE"
      },
      "source": [
        "train:valid = 99:1 로 분할해줬습니다."
      ]
    },
    {
      "cell_type": "markdown",
      "metadata": {
        "id": "mGeirrkQoRt5"
      },
      "source": [
        "### padding!"
      ]
    },
    {
      "cell_type": "code",
      "execution_count": null,
      "metadata": {
        "id": "T1XGiXc2oUnH"
      },
      "outputs": [],
      "source": [
        "from tensorflow.keras.preprocessing.sequence import pad_sequences\n",
        "# tensorflow. 빠져있었다!\n",
        "\n",
        "def get_keras_data(dataset):\n",
        "    X = {\n",
        "        'name' : pad_sequences(dataset.seq_name, maxlen=MAX_NAME_SEQ)\n",
        "        , 'item_desc' : pad_sequences(dataset.seq_item_description, maxlen=MAX_ITEM_DESC_SEQ)\n",
        "        , 'brand_name' : np.array(dataset.brand_name)\n",
        "        , 'category_name' : np.array(dataset.category_name)\n",
        "        , 'item_condition' : np.array(dataset.item_condition_id)\n",
        "        , 'num_vars' : np.array(dataset[[\"shipping\"]])\n",
        "    }\n",
        "    return X\n",
        "\n",
        "X_train = get_keras_data(dtrain)\n",
        "X_valid = get_keras_data(dvalid)\n",
        "X_test = get_keras_data(test)"
      ]
    },
    {
      "cell_type": "markdown",
      "metadata": {
        "id": "74Md6rCF7vX7"
      },
      "source": [
        "dtrian, dvalid, test 각각에 필요한 column을 넣어주는데, name과 item_desc 은 padding을 해줍니다"
      ]
    },
    {
      "cell_type": "code",
      "execution_count": null,
      "metadata": {
        "colab": {
          "base_uri": "https://localhost:8080/",
          "height": 257
        },
        "id": "WvI29CHw0qIS",
        "outputId": "67aa4aeb-aa5e-4199-9e11-56b3c228b8ed"
      },
      "outputs": [
        {
          "output_type": "execute_result",
          "data": {
            "text/plain": [
              "        train_id                                   name  item_condition_id  \\\n",
              "407853    407853           maroon velvet lisette shorts                  1   \n",
              "748699    748699  Benefit Roller Lash Mascara FULL SIZE                  2   \n",
              "320295    320295                   Holographic Ipsy Bag                  2   \n",
              "\n",
              "        category_name  brand_name  price  shipping  \\\n",
              "407853           1162         737   22.0         1   \n",
              "748699             26         574   14.0         1   \n",
              "320295           1303        5265    7.0         0   \n",
              "\n",
              "                                         item_description  \\\n",
              "407853                     brand new from brandy melville   \n",
              "748699  Benefit Roller Lash Mascara FULL SIZE in the c...   \n",
              "320295                                          Used once   \n",
              "\n",
              "                                     seq_item_description  \\\n",
              "407853                              [16, 5, 43, 536, 587]   \n",
              "748699  [1232, 2593, 1292, 643, 152, 6, 7, 2, 48, 24, ...   \n",
              "320295                                           [31, 96]   \n",
              "\n",
              "                               seq_name    target  \n",
              "407853          [836, 1038, 18025, 129] -0.175509  \n",
              "748699  [1232, 2593, 1292, 643, 152, 6] -0.287907  \n",
              "320295                [2875, 2240, 101] -0.453202  "
            ],
            "text/html": [
              "\n",
              "  <div id=\"df-4512973a-9adf-44a5-a0d0-8eafd6d8d008\">\n",
              "    <div class=\"colab-df-container\">\n",
              "      <div>\n",
              "<style scoped>\n",
              "    .dataframe tbody tr th:only-of-type {\n",
              "        vertical-align: middle;\n",
              "    }\n",
              "\n",
              "    .dataframe tbody tr th {\n",
              "        vertical-align: top;\n",
              "    }\n",
              "\n",
              "    .dataframe thead th {\n",
              "        text-align: right;\n",
              "    }\n",
              "</style>\n",
              "<table border=\"1\" class=\"dataframe\">\n",
              "  <thead>\n",
              "    <tr style=\"text-align: right;\">\n",
              "      <th></th>\n",
              "      <th>train_id</th>\n",
              "      <th>name</th>\n",
              "      <th>item_condition_id</th>\n",
              "      <th>category_name</th>\n",
              "      <th>brand_name</th>\n",
              "      <th>price</th>\n",
              "      <th>shipping</th>\n",
              "      <th>item_description</th>\n",
              "      <th>seq_item_description</th>\n",
              "      <th>seq_name</th>\n",
              "      <th>target</th>\n",
              "    </tr>\n",
              "  </thead>\n",
              "  <tbody>\n",
              "    <tr>\n",
              "      <th>407853</th>\n",
              "      <td>407853</td>\n",
              "      <td>maroon velvet lisette shorts</td>\n",
              "      <td>1</td>\n",
              "      <td>1162</td>\n",
              "      <td>737</td>\n",
              "      <td>22.0</td>\n",
              "      <td>1</td>\n",
              "      <td>brand new from brandy melville</td>\n",
              "      <td>[16, 5, 43, 536, 587]</td>\n",
              "      <td>[836, 1038, 18025, 129]</td>\n",
              "      <td>-0.175509</td>\n",
              "    </tr>\n",
              "    <tr>\n",
              "      <th>748699</th>\n",
              "      <td>748699</td>\n",
              "      <td>Benefit Roller Lash Mascara FULL SIZE</td>\n",
              "      <td>2</td>\n",
              "      <td>26</td>\n",
              "      <td>574</td>\n",
              "      <td>14.0</td>\n",
              "      <td>1</td>\n",
              "      <td>Benefit Roller Lash Mascara FULL SIZE in the c...</td>\n",
              "      <td>[1232, 2593, 1292, 643, 152, 6, 7, 2, 48, 24, ...</td>\n",
              "      <td>[1232, 2593, 1292, 643, 152, 6]</td>\n",
              "      <td>-0.287907</td>\n",
              "    </tr>\n",
              "    <tr>\n",
              "      <th>320295</th>\n",
              "      <td>320295</td>\n",
              "      <td>Holographic Ipsy Bag</td>\n",
              "      <td>2</td>\n",
              "      <td>1303</td>\n",
              "      <td>5265</td>\n",
              "      <td>7.0</td>\n",
              "      <td>0</td>\n",
              "      <td>Used once</td>\n",
              "      <td>[31, 96]</td>\n",
              "      <td>[2875, 2240, 101]</td>\n",
              "      <td>-0.453202</td>\n",
              "    </tr>\n",
              "  </tbody>\n",
              "</table>\n",
              "</div>\n",
              "      <button class=\"colab-df-convert\" onclick=\"convertToInteractive('df-4512973a-9adf-44a5-a0d0-8eafd6d8d008')\"\n",
              "              title=\"Convert this dataframe to an interactive table.\"\n",
              "              style=\"display:none;\">\n",
              "        \n",
              "  <svg xmlns=\"http://www.w3.org/2000/svg\" height=\"24px\"viewBox=\"0 0 24 24\"\n",
              "       width=\"24px\">\n",
              "    <path d=\"M0 0h24v24H0V0z\" fill=\"none\"/>\n",
              "    <path d=\"M18.56 5.44l.94 2.06.94-2.06 2.06-.94-2.06-.94-.94-2.06-.94 2.06-2.06.94zm-11 1L8.5 8.5l.94-2.06 2.06-.94-2.06-.94L8.5 2.5l-.94 2.06-2.06.94zm10 10l.94 2.06.94-2.06 2.06-.94-2.06-.94-.94-2.06-.94 2.06-2.06.94z\"/><path d=\"M17.41 7.96l-1.37-1.37c-.4-.4-.92-.59-1.43-.59-.52 0-1.04.2-1.43.59L10.3 9.45l-7.72 7.72c-.78.78-.78 2.05 0 2.83L4 21.41c.39.39.9.59 1.41.59.51 0 1.02-.2 1.41-.59l7.78-7.78 2.81-2.81c.8-.78.8-2.07 0-2.86zM5.41 20L4 18.59l7.72-7.72 1.47 1.35L5.41 20z\"/>\n",
              "  </svg>\n",
              "      </button>\n",
              "      \n",
              "  <style>\n",
              "    .colab-df-container {\n",
              "      display:flex;\n",
              "      flex-wrap:wrap;\n",
              "      gap: 12px;\n",
              "    }\n",
              "\n",
              "    .colab-df-convert {\n",
              "      background-color: #E8F0FE;\n",
              "      border: none;\n",
              "      border-radius: 50%;\n",
              "      cursor: pointer;\n",
              "      display: none;\n",
              "      fill: #1967D2;\n",
              "      height: 32px;\n",
              "      padding: 0 0 0 0;\n",
              "      width: 32px;\n",
              "    }\n",
              "\n",
              "    .colab-df-convert:hover {\n",
              "      background-color: #E2EBFA;\n",
              "      box-shadow: 0px 1px 2px rgba(60, 64, 67, 0.3), 0px 1px 3px 1px rgba(60, 64, 67, 0.15);\n",
              "      fill: #174EA6;\n",
              "    }\n",
              "\n",
              "    [theme=dark] .colab-df-convert {\n",
              "      background-color: #3B4455;\n",
              "      fill: #D2E3FC;\n",
              "    }\n",
              "\n",
              "    [theme=dark] .colab-df-convert:hover {\n",
              "      background-color: #434B5C;\n",
              "      box-shadow: 0px 1px 3px 1px rgba(0, 0, 0, 0.15);\n",
              "      filter: drop-shadow(0px 1px 2px rgba(0, 0, 0, 0.3));\n",
              "      fill: #FFFFFF;\n",
              "    }\n",
              "  </style>\n",
              "\n",
              "      <script>\n",
              "        const buttonEl =\n",
              "          document.querySelector('#df-4512973a-9adf-44a5-a0d0-8eafd6d8d008 button.colab-df-convert');\n",
              "        buttonEl.style.display =\n",
              "          google.colab.kernel.accessAllowed ? 'block' : 'none';\n",
              "\n",
              "        async function convertToInteractive(key) {\n",
              "          const element = document.querySelector('#df-4512973a-9adf-44a5-a0d0-8eafd6d8d008');\n",
              "          const dataTable =\n",
              "            await google.colab.kernel.invokeFunction('convertToInteractive',\n",
              "                                                     [key], {});\n",
              "          if (!dataTable) return;\n",
              "\n",
              "          const docLinkHtml = 'Like what you see? Visit the ' +\n",
              "            '<a target=\"_blank\" href=https://colab.research.google.com/notebooks/data_table.ipynb>data table notebook</a>'\n",
              "            + ' to learn more about interactive tables.';\n",
              "          element.innerHTML = '';\n",
              "          dataTable['output_type'] = 'display_data';\n",
              "          await google.colab.output.renderOutput(dataTable, element);\n",
              "          const docLink = document.createElement('div');\n",
              "          docLink.innerHTML = docLinkHtml;\n",
              "          element.appendChild(docLink);\n",
              "        }\n",
              "      </script>\n",
              "    </div>\n",
              "  </div>\n",
              "  "
            ]
          },
          "metadata": {},
          "execution_count": 26
        }
      ],
      "source": [
        "dtrain.head(3)"
      ]
    },
    {
      "cell_type": "markdown",
      "metadata": {
        "id": "uIR2h6la8af9"
      },
      "source": [
        "### 모델 만들기~"
      ]
    },
    {
      "cell_type": "code",
      "execution_count": null,
      "metadata": {
        "colab": {
          "base_uri": "https://localhost:8080/"
        },
        "id": "RBqZd7gm8BVb",
        "outputId": "0a35949f-631f-44e0-820f-a38a25416814"
      },
      "outputs": [
        {
          "output_type": "stream",
          "name": "stdout",
          "text": [
            "Model: \"model\"\n",
            "__________________________________________________________________________________________________\n",
            " Layer (type)                   Output Shape         Param #     Connected to                     \n",
            "==================================================================================================\n",
            " brand_name (InputLayer)        [(None, 1)]          0           []                               \n",
            "                                                                                                  \n",
            " category_name (InputLayer)     [(None, 1)]          0           []                               \n",
            "                                                                                                  \n",
            " item_condition (InputLayer)    [(None, 1)]          0           []                               \n",
            "                                                                                                  \n",
            " item_desc (InputLayer)         [(None, 75)]         0           []                               \n",
            "                                                                                                  \n",
            " name (InputLayer)              [(None, 10)]         0           []                               \n",
            "                                                                                                  \n",
            " embedding_2 (Embedding)        (None, 1, 10)        52900       ['brand_name[0][0]']             \n",
            "                                                                                                  \n",
            " embedding_3 (Embedding)        (None, 1, 10)        13110       ['category_name[0][0]']          \n",
            "                                                                                                  \n",
            " embedding_4 (Embedding)        (None, 1, 5)         30          ['item_condition[0][0]']         \n",
            "                                                                                                  \n",
            " embedding_1 (Embedding)        (None, 75, 50)       12954400    ['item_desc[0][0]']              \n",
            "                                                                                                  \n",
            " embedding (Embedding)          (None, 10, 50)       12954400    ['name[0][0]']                   \n",
            "                                                                                                  \n",
            " flatten (Flatten)              (None, 10)           0           ['embedding_2[0][0]']            \n",
            "                                                                                                  \n",
            " flatten_1 (Flatten)            (None, 10)           0           ['embedding_3[0][0]']            \n",
            "                                                                                                  \n",
            " flatten_2 (Flatten)            (None, 5)            0           ['embedding_4[0][0]']            \n",
            "                                                                                                  \n",
            " gru (GRU)                      (None, 16)           3264        ['embedding_1[0][0]']            \n",
            "                                                                                                  \n",
            " gru_1 (GRU)                    (None, 8)            1440        ['embedding[0][0]']              \n",
            "                                                                                                  \n",
            " num_vars (InputLayer)          [(None, 1)]          0           []                               \n",
            "                                                                                                  \n",
            " concatenate (Concatenate)      (None, 50)           0           ['flatten[0][0]',                \n",
            "                                                                  'flatten_1[0][0]',              \n",
            "                                                                  'flatten_2[0][0]',              \n",
            "                                                                  'gru[0][0]',                    \n",
            "                                                                  'gru_1[0][0]',                  \n",
            "                                                                  'num_vars[0][0]']               \n",
            "                                                                                                  \n",
            " dense (Dense)                  (None, 128)          6528        ['concatenate[0][0]']            \n",
            "                                                                                                  \n",
            " dropout (Dropout)              (None, 128)          0           ['dense[0][0]']                  \n",
            "                                                                                                  \n",
            " dense_1 (Dense)                (None, 64)           8256        ['dropout[0][0]']                \n",
            "                                                                                                  \n",
            " dropout_1 (Dropout)            (None, 64)           0           ['dense_1[0][0]']                \n",
            "                                                                                                  \n",
            " dense_2 (Dense)                (None, 1)            65          ['dropout_1[0][0]']              \n",
            "                                                                                                  \n",
            "==================================================================================================\n",
            "Total params: 25,994,393\n",
            "Trainable params: 25,994,393\n",
            "Non-trainable params: 0\n",
            "__________________________________________________________________________________________________\n"
          ]
        }
      ],
      "source": [
        "# Keras Model definition\n",
        "from keras.layers import Input, Dropout, Dense, BatchNormalization, Activation, concatenate, GRU, Embedding, Flatten\n",
        "from keras.models import Model\n",
        "from keras.callbacks import ModelCheckpoint, Callback, EarlyStopping\n",
        "from keras import backend as K\n",
        "\n",
        "def get_callbacks(filepath, patience=2):\n",
        "    es = EarlyStopping('val_loss', patience = patience, mode = \"min\")\n",
        "    msave = ModelCheckpoint(filepath, save_best_only =True)\n",
        "    return [es, msave]\n",
        "\n",
        "def rmsle_cust(y_true, y_pred):\n",
        "    first_log = K.log(K.clip(y_pred, K.epsilon(), None) + 1. )\n",
        "    second_log = K.log(K.clip(y_true, K.epsilon(), None) + 1.)\n",
        "    return K.sqrt(K.mean(K.square(first_log - second_log), axis=-1))\n",
        "\n",
        "def get_model():\n",
        "    #params\n",
        "    dr_r = 0.1 # dropout rate\n",
        "\n",
        "    #Inputs\n",
        "    name = Input(shape=[X_train[\"name\"].shape[1]], name=\"name\")\n",
        "    item_desc = Input(shape=[X_train[\"item_desc\"].shape[1]], name=\"item_desc\")\n",
        "    brand_name = Input(shape=[1], name = \"brand_name\")\n",
        "    category_name = Input(shape=[1], name = \"category_name\")\n",
        "    item_condition = Input(shape=[1], name =\"item_condition\")\n",
        "    num_vars = Input(shape=[X_train[\"num_vars\"].shape[1]], name=\"num_vars\")\n",
        "\n",
        "    #Embeddings layers\n",
        "    emb_name = Embedding(MAX_TEXT, 50)(name)\n",
        "    emb_item_desc = Embedding(MAX_TEXT, 50)(item_desc)\n",
        "    emb_brand_name = Embedding(MAX_BRAND, 10)(brand_name)\n",
        "    emb_category_name = Embedding(MAX_CATEGORY, 10)(category_name)\n",
        "    emb_item_condition = Embedding(MAX_CONDITION, 5)(item_condition)\n",
        "\n",
        "    #rnn layer\n",
        "    rnn_layer1 = GRU(16) (emb_item_desc)\n",
        "    rnn_layer2 = GRU(8) (emb_name)\n",
        "    # item desc 랑 name은 gru 넣어주고\n",
        "\n",
        "    # main layer\n",
        "    main_l = concatenate([\n",
        "        Flatten() (emb_brand_name)\n",
        "        , Flatten() (emb_category_name)\n",
        "        , Flatten() (emb_item_condition)\n",
        "        , rnn_layer1\n",
        "        , rnn_layer2\n",
        "        , num_vars\n",
        "    ])\n",
        "    # 다합쳐줌\n",
        "    main_l = Dropout(dr_r) (Dense(128) (main_l))\n",
        "    main_l = Dropout(dr_r) (Dense(64) (main_l))\n",
        "\n",
        "    # output\n",
        "    output = Dense(1, activation = \"linear\") (main_l)\n",
        "\n",
        "    # model\n",
        "    model = Model([name, item_desc, brand_name\n",
        "                   , category_name, item_condition, num_vars], output)\n",
        "    model.compile(loss=\"mse\", optimizer=\"adam\", metrics=[\"mae\", rmsle_cust])\n",
        "\n",
        "    return model\n",
        "\n",
        "model = get_model()\n",
        "model.summary()"
      ]
    },
    {
      "cell_type": "markdown",
      "metadata": {
        "id": "1DzGeGdxAq6a"
      },
      "source": [
        "### 모델 학습~"
      ]
    },
    {
      "cell_type": "code",
      "execution_count": null,
      "metadata": {
        "colab": {
          "base_uri": "https://localhost:8080/"
        },
        "id": "zYD6lY3w8dQq",
        "outputId": "62e1dbb1-9d6d-45df-b9c7-1d4913b11991"
      },
      "outputs": [
        {
          "output_type": "stream",
          "name": "stdout",
          "text": [
            "Epoch 1/20\n",
            "74/74 [==============================] - 17s 108ms/step - loss: 0.0278 - mae: 0.1267 - rmsle_cust: 0.0153 - val_loss: 0.0182 - val_mae: 0.1020 - val_rmsle_cust: 0.0136\n",
            "Epoch 2/20\n",
            "74/74 [==============================] - 7s 98ms/step - loss: 0.0178 - mae: 0.1010 - rmsle_cust: 0.0132 - val_loss: 0.0159 - val_mae: 0.0957 - val_rmsle_cust: 0.0126\n",
            "Epoch 3/20\n",
            "74/74 [==============================] - 7s 98ms/step - loss: 0.0156 - mae: 0.0947 - rmsle_cust: 0.0124 - val_loss: 0.0155 - val_mae: 0.0949 - val_rmsle_cust: 0.0124\n",
            "Epoch 4/20\n",
            "74/74 [==============================] - 7s 99ms/step - loss: 0.0147 - mae: 0.0918 - rmsle_cust: 0.0121 - val_loss: 0.0154 - val_mae: 0.0943 - val_rmsle_cust: 0.0124\n",
            "Epoch 5/20\n",
            "74/74 [==============================] - 7s 99ms/step - loss: 0.0141 - mae: 0.0899 - rmsle_cust: 0.0119 - val_loss: 0.0153 - val_mae: 0.0942 - val_rmsle_cust: 0.0124\n",
            "Epoch 6/20\n",
            "74/74 [==============================] - 7s 100ms/step - loss: 0.0136 - mae: 0.0880 - rmsle_cust: 0.0116 - val_loss: 0.0153 - val_mae: 0.0939 - val_rmsle_cust: 0.0123\n",
            "Epoch 7/20\n",
            "74/74 [==============================] - 7s 100ms/step - loss: 0.0132 - mae: 0.0865 - rmsle_cust: 0.0114 - val_loss: 0.0153 - val_mae: 0.0936 - val_rmsle_cust: 0.0123\n",
            "Epoch 8/20\n",
            "74/74 [==============================] - 7s 100ms/step - loss: 0.0128 - mae: 0.0851 - rmsle_cust: 0.0112 - val_loss: 0.0154 - val_mae: 0.0942 - val_rmsle_cust: 0.0124\n",
            "Epoch 9/20\n",
            "74/74 [==============================] - 7s 101ms/step - loss: 0.0125 - mae: 0.0838 - rmsle_cust: 0.0110 - val_loss: 0.0152 - val_mae: 0.0936 - val_rmsle_cust: 0.0123\n",
            "Epoch 10/20\n",
            "74/74 [==============================] - 7s 101ms/step - loss: 0.0122 - mae: 0.0826 - rmsle_cust: 0.0108 - val_loss: 0.0152 - val_mae: 0.0932 - val_rmsle_cust: 0.0123\n",
            "Epoch 11/20\n",
            "74/74 [==============================] - 7s 101ms/step - loss: 0.0119 - mae: 0.0815 - rmsle_cust: 0.0106 - val_loss: 0.0153 - val_mae: 0.0933 - val_rmsle_cust: 0.0124\n",
            "Epoch 12/20\n",
            "74/74 [==============================] - 8s 102ms/step - loss: 0.0116 - mae: 0.0804 - rmsle_cust: 0.0104 - val_loss: 0.0152 - val_mae: 0.0929 - val_rmsle_cust: 0.0122\n",
            "Epoch 13/20\n",
            "74/74 [==============================] - 8s 102ms/step - loss: 0.0114 - mae: 0.0796 - rmsle_cust: 0.0102 - val_loss: 0.0152 - val_mae: 0.0934 - val_rmsle_cust: 0.0122\n",
            "Epoch 14/20\n",
            "74/74 [==============================] - 8s 103ms/step - loss: 0.0112 - mae: 0.0787 - rmsle_cust: 0.0101 - val_loss: 0.0152 - val_mae: 0.0930 - val_rmsle_cust: 0.0123\n",
            "Epoch 15/20\n",
            "74/74 [==============================] - 8s 103ms/step - loss: 0.0109 - mae: 0.0778 - rmsle_cust: 0.0099 - val_loss: 0.0155 - val_mae: 0.0940 - val_rmsle_cust: 0.0124\n",
            "Epoch 16/20\n",
            "74/74 [==============================] - 8s 103ms/step - loss: 0.0107 - mae: 0.0770 - rmsle_cust: 0.0098 - val_loss: 0.0152 - val_mae: 0.0928 - val_rmsle_cust: 0.0122\n",
            "Epoch 17/20\n",
            "74/74 [==============================] - 8s 103ms/step - loss: 0.0105 - mae: 0.0762 - rmsle_cust: 0.0096 - val_loss: 0.0153 - val_mae: 0.0928 - val_rmsle_cust: 0.0122\n",
            "Epoch 18/20\n",
            "74/74 [==============================] - 8s 102ms/step - loss: 0.0104 - mae: 0.0755 - rmsle_cust: 0.0095 - val_loss: 0.0153 - val_mae: 0.0926 - val_rmsle_cust: 0.0122\n",
            "Epoch 19/20\n",
            "74/74 [==============================] - 8s 102ms/step - loss: 0.0102 - mae: 0.0749 - rmsle_cust: 0.0094 - val_loss: 0.0155 - val_mae: 0.0932 - val_rmsle_cust: 0.0123\n",
            "Epoch 20/20\n",
            "74/74 [==============================] - 8s 102ms/step - loss: 0.0101 - mae: 0.0743 - rmsle_cust: 0.0093 - val_loss: 0.0153 - val_mae: 0.0928 - val_rmsle_cust: 0.0123\n"
          ]
        }
      ],
      "source": [
        "# Fitting the model\n",
        "model_path = \"/content/drive/MyDrive/dataset/kaggle/mercari-price-suggestion-challenge/nn_model.h5\"\n",
        "\n",
        "BATCH_SIZE = 20000\n",
        "epochs = 20\n",
        "model = get_model()\n",
        "model.fit(X_train, dtrain.target, epochs = epochs, batch_size=BATCH_SIZE\n",
        "          , validation_data = (X_valid, dvalid.target)\n",
        "          , verbose = 1)\n",
        "\n",
        "model.save(model_path)"
      ]
    },
    {
      "cell_type": "code",
      "execution_count": null,
      "metadata": {
        "colab": {
          "base_uri": "https://localhost:8080/"
        },
        "id": "kF-RvsUmBFtk",
        "outputId": "52d9093e-6250-47c9-a5b2-876d90201ed1"
      },
      "outputs": [
        {
          "output_type": "stream",
          "name": "stdout",
          "text": [
            "464/464 [==============================] - 2s 4ms/step\n",
            " RMSLE error on dev test: 0.485428879640637\n"
          ]
        }
      ],
      "source": [
        "\n",
        "# Evauate The model on dev Test : What is it Doing??\n",
        "val_preds = model.predict(X_valid)\n",
        "val_preds = target_scaler.inverse_transform(val_preds)\n",
        "val_preds = np.exp(val_preds) + 1\n",
        "\n",
        "# mean_absolute_error, mean_squared_log_error\n",
        "y_true = np.array(dvalid.price.values)\n",
        "y_pred = val_preds[:,0]\n",
        "v_rmsle = rmsle(y_true, y_pred)\n",
        "print(\" RMSLE error on dev test: \" +str(v_rmsle))\n"
      ]
    },
    {
      "cell_type": "markdown",
      "source": [
        "원 노트북 : 0.4894767455336322"
      ],
      "metadata": {
        "id": "JA6oQnA7LNGo"
      }
    },
    {
      "cell_type": "code",
      "execution_count": null,
      "metadata": {
        "colab": {
          "base_uri": "https://localhost:8080/"
        },
        "id": "X6dGsvFBB30I",
        "outputId": "bdb923b0-c249-4084-d31b-65eeb4bffa30"
      },
      "outputs": [
        {
          "output_type": "stream",
          "name": "stdout",
          "text": [
            "35/35 [==============================] - 1s 22ms/step\n"
          ]
        },
        {
          "output_type": "stream",
          "name": "stderr",
          "text": [
            "/usr/local/lib/python3.7/dist-packages/ipykernel_launcher.py:7: SettingWithCopyWarning: \n",
            "A value is trying to be set on a copy of a slice from a DataFrame.\n",
            "Try using .loc[row_indexer,col_indexer] = value instead\n",
            "\n",
            "See the caveats in the documentation: https://pandas.pydata.org/pandas-docs/stable/user_guide/indexing.html#returning-a-view-versus-a-copy\n",
            "  import sys\n"
          ]
        }
      ],
      "source": [
        "# Create Predictions\n",
        "preds = model.predict(X_test, batch_size = BATCH_SIZE)\n",
        "preds = target_scaler.inverse_transform(preds)\n",
        "preds = np.exp(preds)-1\n",
        "\n",
        "submission = test[[\"test_id\"]]\n",
        "submission[\"price\"] = preds"
      ]
    },
    {
      "cell_type": "code",
      "source": [
        "submission.head(5)"
      ],
      "metadata": {
        "colab": {
          "base_uri": "https://localhost:8080/",
          "height": 206
        },
        "id": "TSfRLGrwhj6h",
        "outputId": "a1c6c22a-14b4-4868-f2db-e975df1d7ea3"
      },
      "execution_count": null,
      "outputs": [
        {
          "output_type": "execute_result",
          "data": {
            "text/plain": [
              "   test_id      price\n",
              "0        0  10.098969\n",
              "1        1  10.376454\n",
              "2        2  40.875351\n",
              "3        3  15.096447\n",
              "4        4  13.848146"
            ],
            "text/html": [
              "\n",
              "  <div id=\"df-acdb0f9b-0d88-4aed-889c-04676bac91ed\">\n",
              "    <div class=\"colab-df-container\">\n",
              "      <div>\n",
              "<style scoped>\n",
              "    .dataframe tbody tr th:only-of-type {\n",
              "        vertical-align: middle;\n",
              "    }\n",
              "\n",
              "    .dataframe tbody tr th {\n",
              "        vertical-align: top;\n",
              "    }\n",
              "\n",
              "    .dataframe thead th {\n",
              "        text-align: right;\n",
              "    }\n",
              "</style>\n",
              "<table border=\"1\" class=\"dataframe\">\n",
              "  <thead>\n",
              "    <tr style=\"text-align: right;\">\n",
              "      <th></th>\n",
              "      <th>test_id</th>\n",
              "      <th>price</th>\n",
              "    </tr>\n",
              "  </thead>\n",
              "  <tbody>\n",
              "    <tr>\n",
              "      <th>0</th>\n",
              "      <td>0</td>\n",
              "      <td>10.098969</td>\n",
              "    </tr>\n",
              "    <tr>\n",
              "      <th>1</th>\n",
              "      <td>1</td>\n",
              "      <td>10.376454</td>\n",
              "    </tr>\n",
              "    <tr>\n",
              "      <th>2</th>\n",
              "      <td>2</td>\n",
              "      <td>40.875351</td>\n",
              "    </tr>\n",
              "    <tr>\n",
              "      <th>3</th>\n",
              "      <td>3</td>\n",
              "      <td>15.096447</td>\n",
              "    </tr>\n",
              "    <tr>\n",
              "      <th>4</th>\n",
              "      <td>4</td>\n",
              "      <td>13.848146</td>\n",
              "    </tr>\n",
              "  </tbody>\n",
              "</table>\n",
              "</div>\n",
              "      <button class=\"colab-df-convert\" onclick=\"convertToInteractive('df-acdb0f9b-0d88-4aed-889c-04676bac91ed')\"\n",
              "              title=\"Convert this dataframe to an interactive table.\"\n",
              "              style=\"display:none;\">\n",
              "        \n",
              "  <svg xmlns=\"http://www.w3.org/2000/svg\" height=\"24px\"viewBox=\"0 0 24 24\"\n",
              "       width=\"24px\">\n",
              "    <path d=\"M0 0h24v24H0V0z\" fill=\"none\"/>\n",
              "    <path d=\"M18.56 5.44l.94 2.06.94-2.06 2.06-.94-2.06-.94-.94-2.06-.94 2.06-2.06.94zm-11 1L8.5 8.5l.94-2.06 2.06-.94-2.06-.94L8.5 2.5l-.94 2.06-2.06.94zm10 10l.94 2.06.94-2.06 2.06-.94-2.06-.94-.94-2.06-.94 2.06-2.06.94z\"/><path d=\"M17.41 7.96l-1.37-1.37c-.4-.4-.92-.59-1.43-.59-.52 0-1.04.2-1.43.59L10.3 9.45l-7.72 7.72c-.78.78-.78 2.05 0 2.83L4 21.41c.39.39.9.59 1.41.59.51 0 1.02-.2 1.41-.59l7.78-7.78 2.81-2.81c.8-.78.8-2.07 0-2.86zM5.41 20L4 18.59l7.72-7.72 1.47 1.35L5.41 20z\"/>\n",
              "  </svg>\n",
              "      </button>\n",
              "      \n",
              "  <style>\n",
              "    .colab-df-container {\n",
              "      display:flex;\n",
              "      flex-wrap:wrap;\n",
              "      gap: 12px;\n",
              "    }\n",
              "\n",
              "    .colab-df-convert {\n",
              "      background-color: #E8F0FE;\n",
              "      border: none;\n",
              "      border-radius: 50%;\n",
              "      cursor: pointer;\n",
              "      display: none;\n",
              "      fill: #1967D2;\n",
              "      height: 32px;\n",
              "      padding: 0 0 0 0;\n",
              "      width: 32px;\n",
              "    }\n",
              "\n",
              "    .colab-df-convert:hover {\n",
              "      background-color: #E2EBFA;\n",
              "      box-shadow: 0px 1px 2px rgba(60, 64, 67, 0.3), 0px 1px 3px 1px rgba(60, 64, 67, 0.15);\n",
              "      fill: #174EA6;\n",
              "    }\n",
              "\n",
              "    [theme=dark] .colab-df-convert {\n",
              "      background-color: #3B4455;\n",
              "      fill: #D2E3FC;\n",
              "    }\n",
              "\n",
              "    [theme=dark] .colab-df-convert:hover {\n",
              "      background-color: #434B5C;\n",
              "      box-shadow: 0px 1px 3px 1px rgba(0, 0, 0, 0.15);\n",
              "      filter: drop-shadow(0px 1px 2px rgba(0, 0, 0, 0.3));\n",
              "      fill: #FFFFFF;\n",
              "    }\n",
              "  </style>\n",
              "\n",
              "      <script>\n",
              "        const buttonEl =\n",
              "          document.querySelector('#df-acdb0f9b-0d88-4aed-889c-04676bac91ed button.colab-df-convert');\n",
              "        buttonEl.style.display =\n",
              "          google.colab.kernel.accessAllowed ? 'block' : 'none';\n",
              "\n",
              "        async function convertToInteractive(key) {\n",
              "          const element = document.querySelector('#df-acdb0f9b-0d88-4aed-889c-04676bac91ed');\n",
              "          const dataTable =\n",
              "            await google.colab.kernel.invokeFunction('convertToInteractive',\n",
              "                                                     [key], {});\n",
              "          if (!dataTable) return;\n",
              "\n",
              "          const docLinkHtml = 'Like what you see? Visit the ' +\n",
              "            '<a target=\"_blank\" href=https://colab.research.google.com/notebooks/data_table.ipynb>data table notebook</a>'\n",
              "            + ' to learn more about interactive tables.';\n",
              "          element.innerHTML = '';\n",
              "          dataTable['output_type'] = 'display_data';\n",
              "          await google.colab.output.renderOutput(dataTable, element);\n",
              "          const docLink = document.createElement('div');\n",
              "          docLink.innerHTML = docLinkHtml;\n",
              "          element.appendChild(docLink);\n",
              "        }\n",
              "      </script>\n",
              "    </div>\n",
              "  </div>\n",
              "  "
            ]
          },
          "metadata": {},
          "execution_count": 32
        }
      ]
    },
    {
      "cell_type": "code",
      "execution_count": null,
      "metadata": {
        "colab": {
          "base_uri": "https://localhost:8080/",
          "height": 284
        },
        "id": "X22TU26EChvu",
        "outputId": "c5b9c449-102e-487c-a949-618c7b0ae4a9"
      },
      "outputs": [
        {
          "output_type": "execute_result",
          "data": {
            "text/plain": [
              "<matplotlib.axes._subplots.AxesSubplot at 0x7fb4bc2eaa50>"
            ]
          },
          "metadata": {},
          "execution_count": 31
        },
        {
          "output_type": "display_data",
          "data": {
            "text/plain": [
              "<Figure size 432x288 with 1 Axes>"
            ],
            "image/png": "[encoded data removed]"
          },
          "metadata": {
            "needs_background": "light"
          }
        }
      ],
      "source": [
        "submission.to_csv(\"/content/drive/MyDrive/dataset/kaggle/mercari-price-suggestion-challenge/myNNsubmission.csv\", index=False)\n",
        "submission.price.hist()\n"
      ]
    },
    {
      "cell_type": "markdown",
      "metadata": {
        "id": "r8SM6dk6DKsG"
      },
      "source": [
        "- Increase the embeddings factors\n",
        "- Decrease the batch size\n",
        "- Add Batch Normalization\n",
        "- Try LSTM, Bidirectional RNN, stack RNN\n",
        "- Try with more dense layers or more rnn outputs\n",
        "-  etc. Or even try a new architecture!"
      ]
    }
  ],
  "metadata": {
    "accelerator": "GPU",
    "colab": {
      "collapsed_sections": [],
      "machine_shape": "hm",
      "provenance": [],
      "mount_file_id": "1fv2mgjXIrJeT-ZOPk_fQgvBMH679fxcp",
      "authorship_tag": "ABX9TyOHMwOEQl/j0GDyX6OUksX0",
      "include_colab_link": true
    },
    "gpuClass": "standard",
    "kernelspec": {
      "display_name": "Python 3",
      "name": "python3"
    },
    "language_info": {
      "name": "python"
    }
  },
  "nbformat": 4,
  "nbformat_minor": 0
}