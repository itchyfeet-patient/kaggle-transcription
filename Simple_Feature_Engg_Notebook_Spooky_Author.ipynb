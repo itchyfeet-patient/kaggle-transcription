{
  "nbformat": 4,
  "nbformat_minor": 0,
  "metadata": {
    "colab": {
      "provenance": [],
      "collapsed_sections": [],
      "mount_file_id": "1WUEw3I6RE3XJdvp6qHmXtpSkR_w-WYtI",
      "authorship_tag": "ABX9TyPFOE6l+qY9ZGhGGmhzaZAN",
      "include_colab_link": true
    },
    "kernelspec": {
      "name": "python3",
      "display_name": "Python 3"
    },
    "language_info": {
      "name": "python"
    }
  },
  "cells": [
    {
      "cell_type": "markdown",
      "metadata": {
        "id": "view-in-github",
        "colab_type": "text"
      },
      "source": [
        "<a href=\"https://colab.research.google.com/github/itchyfeet-patient/kaggle-transcription/blob/master/Simple_Feature_Engg_Notebook_Spooky_Author.ipynb\" target=\"_parent\"><img src=\"https://colab.research.google.com/assets/colab-badge.svg\" alt=\"Open In Colab\"/></a>"
      ]
    },
    {
      "cell_type": "markdown",
      "source": [
        "# Simple Feature Engg Notebook - Spooky Author ✍"
      ],
      "metadata": {
        "id": "RapS0DDeQBoF"
      }
    },
    {
      "cell_type": "markdown",
      "source": [
        "[원본 노트북](https://www.kaggle.com/code/sudalairajkumar/simple-feature-engg-notebook-spooky-author/notebook)"
      ],
      "metadata": {
        "id": "bzXGircFRp3S"
      }
    },
    {
      "cell_type": "markdown",
      "source": [
        "오싹오싹 작가모음 ><  \n",
        "대회목적:  \n",
        "1. 에드거 앨런 포 \n",
        "2. hp 러브크래프트\n",
        "3. 마리 쉘리 (프랑켄슈타인)   \n",
        "\n",
        "이 세 작가들의 소설이 담긴 text를 가지고 test셋에서 주어진 문장의 저자를 정확하게 식별해내는 것입니다!  \n",
        "\n",
        "이 노트북의 목적!:\n",
        "예측에 도움될 다양한 기능을 만들어 볼거에요!  \n",
        "일단, EDA part에 돌입하기 전 기초적인 데이터 시각화와 cleaning을 해보겠어요~!"
      ],
      "metadata": {
        "id": "2ayA9V61QMTL"
      }
    },
    {
      "cell_type": "code",
      "execution_count": 65,
      "metadata": {
        "id": "FtP_HxN3l8_Y",
        "colab": {
          "base_uri": "https://localhost:8080/"
        },
        "outputId": "2fdb3d61-609f-4da5-d764-fd023852cb8a"
      },
      "outputs": [
        {
          "output_type": "stream",
          "name": "stderr",
          "text": [
            "[nltk_data] Downloading package stopwords to /root/nltk_data...\n",
            "[nltk_data]   Package stopwords is already up-to-date!\n"
          ]
        }
      ],
      "source": [
        "import numpy as np # linear algebra\n",
        "import pandas as pd # data processing, CSV file I/O (e.g pd.read_csv)\n",
        "import matplotlib.pyplot as plt\n",
        "import seaborn as sns\n",
        "import nltk\n",
        "nltk.download('stopwords')\n",
        "from nltk.corpus import stopwords\n",
        "import string\n",
        "import xgboost as xgb\n",
        "from sklearn.feature_extraction.text import TfidfVectorizer, CountVectorizer\n",
        "from sklearn.decomposition import TruncatedSVD\n",
        "from sklearn import ensemble, metrics, model_selection, naive_bayes\n",
        "color = sns.color_palette()\n",
        "\n",
        "%matplotlib inline\n",
        "\n",
        "eng_stopwords = set(stopwords.words(\"english\"))\n",
        "pd.options.mode.chained_assignment = None"
      ]
    },
    {
      "cell_type": "code",
      "source": [
        "## Read the train and test dataset and check the top few lines\n",
        "train_df = pd.read_csv(\"/content/drive/MyDrive/dataset/kaggle/spooky-author-identification/train/train.csv\")\n",
        "test_df = pd.read_csv(\"/content/drive/MyDrive/dataset/kaggle/spooky-author-identification/test/test.csv\")\n",
        "print(\"Number of rows in train dataset : \", train_df.shape[0])\n",
        "print(\"Number of rows in test dataset : \", test_df.shape[0])\n"
      ],
      "metadata": {
        "colab": {
          "base_uri": "https://localhost:8080/"
        },
        "id": "MlpUW3D7SoAT",
        "outputId": "3b9b2d9c-b21b-473a-f01b-5f9dd74b1c89"
      },
      "execution_count": 66,
      "outputs": [
        {
          "output_type": "stream",
          "name": "stdout",
          "text": [
            "Number of rows in train dataset :  19579\n",
            "Number of rows in test dataset :  8392\n"
          ]
        }
      ]
    },
    {
      "cell_type": "code",
      "source": [
        "train_df.head()"
      ],
      "metadata": {
        "colab": {
          "base_uri": "https://localhost:8080/",
          "height": 206
        },
        "id": "TqVg86gIUYhB",
        "outputId": "e860230c-2438-4219-bbb4-8fda860d44bb"
      },
      "execution_count": 67,
      "outputs": [
        {
          "output_type": "execute_result",
          "data": {
            "text/plain": [
              "        id                                               text author\n",
              "0  id26305  This process, however, afforded me no means of...    EAP\n",
              "1  id17569  It never once occurred to me that the fumbling...    HPL\n",
              "2  id11008  In his left hand was a gold snuff box, from wh...    EAP\n",
              "3  id27763  How lovely is spring As we looked from Windsor...    MWS\n",
              "4  id12958  Finding nothing else, not even gold, the Super...    HPL"
            ],
            "text/html": [
              "\n",
              "  <div id=\"df-0304a781-8879-4aef-a397-71a9de0dd70e\">\n",
              "    <div class=\"colab-df-container\">\n",
              "      <div>\n",
              "<style scoped>\n",
              "    .dataframe tbody tr th:only-of-type {\n",
              "        vertical-align: middle;\n",
              "    }\n",
              "\n",
              "    .dataframe tbody tr th {\n",
              "        vertical-align: top;\n",
              "    }\n",
              "\n",
              "    .dataframe thead th {\n",
              "        text-align: right;\n",
              "    }\n",
              "</style>\n",
              "<table border=\"1\" class=\"dataframe\">\n",
              "  <thead>\n",
              "    <tr style=\"text-align: right;\">\n",
              "      <th></th>\n",
              "      <th>id</th>\n",
              "      <th>text</th>\n",
              "      <th>author</th>\n",
              "    </tr>\n",
              "  </thead>\n",
              "  <tbody>\n",
              "    <tr>\n",
              "      <th>0</th>\n",
              "      <td>id26305</td>\n",
              "      <td>This process, however, afforded me no means of...</td>\n",
              "      <td>EAP</td>\n",
              "    </tr>\n",
              "    <tr>\n",
              "      <th>1</th>\n",
              "      <td>id17569</td>\n",
              "      <td>It never once occurred to me that the fumbling...</td>\n",
              "      <td>HPL</td>\n",
              "    </tr>\n",
              "    <tr>\n",
              "      <th>2</th>\n",
              "      <td>id11008</td>\n",
              "      <td>In his left hand was a gold snuff box, from wh...</td>\n",
              "      <td>EAP</td>\n",
              "    </tr>\n",
              "    <tr>\n",
              "      <th>3</th>\n",
              "      <td>id27763</td>\n",
              "      <td>How lovely is spring As we looked from Windsor...</td>\n",
              "      <td>MWS</td>\n",
              "    </tr>\n",
              "    <tr>\n",
              "      <th>4</th>\n",
              "      <td>id12958</td>\n",
              "      <td>Finding nothing else, not even gold, the Super...</td>\n",
              "      <td>HPL</td>\n",
              "    </tr>\n",
              "  </tbody>\n",
              "</table>\n",
              "</div>\n",
              "      <button class=\"colab-df-convert\" onclick=\"convertToInteractive('df-0304a781-8879-4aef-a397-71a9de0dd70e')\"\n",
              "              title=\"Convert this dataframe to an interactive table.\"\n",
              "              style=\"display:none;\">\n",
              "        \n",
              "  <svg xmlns=\"http://www.w3.org/2000/svg\" height=\"24px\"viewBox=\"0 0 24 24\"\n",
              "       width=\"24px\">\n",
              "    <path d=\"M0 0h24v24H0V0z\" fill=\"none\"/>\n",
              "    <path d=\"M18.56 5.44l.94 2.06.94-2.06 2.06-.94-2.06-.94-.94-2.06-.94 2.06-2.06.94zm-11 1L8.5 8.5l.94-2.06 2.06-.94-2.06-.94L8.5 2.5l-.94 2.06-2.06.94zm10 10l.94 2.06.94-2.06 2.06-.94-2.06-.94-.94-2.06-.94 2.06-2.06.94z\"/><path d=\"M17.41 7.96l-1.37-1.37c-.4-.4-.92-.59-1.43-.59-.52 0-1.04.2-1.43.59L10.3 9.45l-7.72 7.72c-.78.78-.78 2.05 0 2.83L4 21.41c.39.39.9.59 1.41.59.51 0 1.02-.2 1.41-.59l7.78-7.78 2.81-2.81c.8-.78.8-2.07 0-2.86zM5.41 20L4 18.59l7.72-7.72 1.47 1.35L5.41 20z\"/>\n",
              "  </svg>\n",
              "      </button>\n",
              "      \n",
              "  <style>\n",
              "    .colab-df-container {\n",
              "      display:flex;\n",
              "      flex-wrap:wrap;\n",
              "      gap: 12px;\n",
              "    }\n",
              "\n",
              "    .colab-df-convert {\n",
              "      background-color: #E8F0FE;\n",
              "      border: none;\n",
              "      border-radius: 50%;\n",
              "      cursor: pointer;\n",
              "      display: none;\n",
              "      fill: #1967D2;\n",
              "      height: 32px;\n",
              "      padding: 0 0 0 0;\n",
              "      width: 32px;\n",
              "    }\n",
              "\n",
              "    .colab-df-convert:hover {\n",
              "      background-color: #E2EBFA;\n",
              "      box-shadow: 0px 1px 2px rgba(60, 64, 67, 0.3), 0px 1px 3px 1px rgba(60, 64, 67, 0.15);\n",
              "      fill: #174EA6;\n",
              "    }\n",
              "\n",
              "    [theme=dark] .colab-df-convert {\n",
              "      background-color: #3B4455;\n",
              "      fill: #D2E3FC;\n",
              "    }\n",
              "\n",
              "    [theme=dark] .colab-df-convert:hover {\n",
              "      background-color: #434B5C;\n",
              "      box-shadow: 0px 1px 3px 1px rgba(0, 0, 0, 0.15);\n",
              "      filter: drop-shadow(0px 1px 2px rgba(0, 0, 0, 0.3));\n",
              "      fill: #FFFFFF;\n",
              "    }\n",
              "  </style>\n",
              "\n",
              "      <script>\n",
              "        const buttonEl =\n",
              "          document.querySelector('#df-0304a781-8879-4aef-a397-71a9de0dd70e button.colab-df-convert');\n",
              "        buttonEl.style.display =\n",
              "          google.colab.kernel.accessAllowed ? 'block' : 'none';\n",
              "\n",
              "        async function convertToInteractive(key) {\n",
              "          const element = document.querySelector('#df-0304a781-8879-4aef-a397-71a9de0dd70e');\n",
              "          const dataTable =\n",
              "            await google.colab.kernel.invokeFunction('convertToInteractive',\n",
              "                                                     [key], {});\n",
              "          if (!dataTable) return;\n",
              "\n",
              "          const docLinkHtml = 'Like what you see? Visit the ' +\n",
              "            '<a target=\"_blank\" href=https://colab.research.google.com/notebooks/data_table.ipynb>data table notebook</a>'\n",
              "            + ' to learn more about interactive tables.';\n",
              "          element.innerHTML = '';\n",
              "          dataTable['output_type'] = 'display_data';\n",
              "          await google.colab.output.renderOutput(dataTable, element);\n",
              "          const docLink = document.createElement('div');\n",
              "          docLink.innerHTML = docLinkHtml;\n",
              "          element.appendChild(docLink);\n",
              "        }\n",
              "      </script>\n",
              "    </div>\n",
              "  </div>\n",
              "  "
            ]
          },
          "metadata": {},
          "execution_count": 67
        }
      ]
    },
    {
      "cell_type": "markdown",
      "source": [
        "클래스가 균형있게 이뤄져잇는지 한번 작가별 텍스트 개수를 체크해봅시다."
      ],
      "metadata": {
        "id": "td4e4mSxUlIK"
      }
    },
    {
      "cell_type": "code",
      "source": [
        "cnt_srs = train_df['author'].value_counts()\n",
        "\n",
        "plt.figure(figsize=(8,4))\n",
        "sns.barplot(cnt_srs.index, cnt_srs.values, alpha=0.8)\n",
        "plt.ylabel('Number of Occurences', fontsize=12)\n",
        "plt.xlabel('Author Name', fontsize=12)\n",
        "plt.show()"
      ],
      "metadata": {
        "colab": {
          "base_uri": "https://localhost:8080/",
          "height": 340
        },
        "id": "lt9VlDGnU3GI",
        "outputId": "e0042edd-b9ad-42d3-85ad-8db9b5038b05"
      },
      "execution_count": 68,
      "outputs": [
        {
          "output_type": "stream",
          "name": "stderr",
          "text": [
            "/usr/local/lib/python3.7/dist-packages/seaborn/_decorators.py:43: FutureWarning: Pass the following variables as keyword args: x, y. From version 0.12, the only valid positional argument will be `data`, and passing other arguments without an explicit keyword will result in an error or misinterpretation.\n",
            "  FutureWarning\n"
          ]
        },
        {
          "output_type": "display_data",
          "data": {
            "text/plain": [
              "<Figure size 576x288 with 1 Axes>"
            ],
            "image/png": "[encoded data removed]"
          },
          "metadata": {
            "needs_background": "light"
          }
        }
      ]
    },
    {
      "cell_type": "markdown",
      "source": [
        "균형있게 클래스가 분포돼있습니다. 저자의 글 스타일을 이해하기 위해 몇줄 출력해봅시다."
      ],
      "metadata": {
        "id": "JYO9v75sbweY"
      }
    },
    {
      "cell_type": "code",
      "source": [
        "grouped_df = train_df.groupby('author')\n",
        "for name, group in grouped_df:\n",
        "    print(group)"
      ],
      "metadata": {
        "colab": {
          "base_uri": "https://localhost:8080/"
        },
        "id": "q8iRvq7Df7e-",
        "outputId": "d0acfeb7-7212-4310-85d0-782f078898c5"
      },
      "execution_count": 69,
      "outputs": [
        {
          "output_type": "stream",
          "name": "stdout",
          "text": [
            "            id                                               text author\n",
            "0      id26305  This process, however, afforded me no means of...    EAP\n",
            "2      id11008  In his left hand was a gold snuff box, from wh...    EAP\n",
            "6      id09674  The astronomer, perhaps, at this point, took r...    EAP\n",
            "7      id13515        The surcingle hung in ribands from my body.    EAP\n",
            "8      id19322  I knew that you could not say to yourself 'ste...    EAP\n",
            "...        ...                                                ...    ...\n",
            "19572  id03325  But these and other difficulties attending res...    EAP\n",
            "19574  id17718  I could have fancied, while I looked at it, th...    EAP\n",
            "19575  id08973  The lids clenched themselves together as if in...    EAP\n",
            "19576  id05267  Mais il faut agir that is to say, a Frenchman ...    EAP\n",
            "19577  id17513  For an item of news like this, it strikes us i...    EAP\n",
            "\n",
            "[7900 rows x 3 columns]\n",
            "            id                                               text author\n",
            "1      id17569  It never once occurred to me that the fumbling...    HPL\n",
            "4      id12958  Finding nothing else, not even gold, the Super...    HPL\n",
            "12     id19764  Herbert West needed fresh bodies because his l...    HPL\n",
            "13     id18886  The farm like grounds extended back very deepl...    HPL\n",
            "19     id20836  His facial aspect, too, was remarkable for its...    HPL\n",
            "...        ...                                                ...    ...\n",
            "19554  id07976  They admitted they had been drunk, but both vo...    HPL\n",
            "19559  id18823  When a fumbling came in the nearer casements h...    HPL\n",
            "19561  id08678  Average people in society and business New Eng...    HPL\n",
            "19571  id14420  My watch was still going, and told me that the...    HPL\n",
            "19578  id00393  He laid a gnarled claw on my shoulder, and it ...    HPL\n",
            "\n",
            "[5635 rows x 3 columns]\n",
            "            id                                               text author\n",
            "3      id27763  How lovely is spring As we looked from Windsor...    MWS\n",
            "5      id22965  A youth passed in solitude, my best years spen...    MWS\n",
            "9      id00912  I confess that neither the structure of langua...    MWS\n",
            "10     id16737  He shall find that I can feel my injuries; he ...    MWS\n",
            "15     id12799  He had escaped me, and I must commence a destr...    MWS\n",
            "...        ...                                                ...    ...\n",
            "19563  id10563  Yet from whom has not that rude hand rent away...    MWS\n",
            "19566  id00832  These reflections made our legislators pause, ...    MWS\n",
            "19569  id26790  Once my fancy was soothed with dreams of virtu...    MWS\n",
            "19570  id14263  Nay, you may have met with another whom you ma...    MWS\n",
            "19573  id07567  Stress of weather drove us up the Adriatic Gul...    MWS\n",
            "\n",
            "[6044 rows x 3 columns]\n"
          ]
        }
      ]
    },
    {
      "cell_type": "markdown",
      "source": [
        "저자명으로 그룹화를 시켰으니까 나머지 정보는 위와 같이 group 되어있습니다. 이를 이용해서 text column 을 5줄 출력해보겠습니다."
      ],
      "metadata": {
        "id": "l9E5Evi4gM5T"
      }
    },
    {
      "cell_type": "code",
      "source": [
        "grouped_df = train_df.groupby('author')\n",
        "for name, group in grouped_df:\n",
        "    print(\"author name : \", name)\n",
        "    cnt = 0\n",
        "    for ind, row in group.iterrows():\n",
        "        # iterrows : 데이터의 행-열/데이터 정보를 (행이름, (열-값))\n",
        "        print(row[\"text\"])\n",
        "        cnt += 1\n",
        "        if cnt == 5:\n",
        "            break\n",
        "    print(\"\\n\")\n"
      ],
      "metadata": {
        "colab": {
          "base_uri": "https://localhost:8080/"
        },
        "id": "oKBfZAtAcPnc",
        "outputId": "eb873718-ec5a-4e24-fc5f-b6aeb502f637"
      },
      "execution_count": 70,
      "outputs": [
        {
          "output_type": "stream",
          "name": "stdout",
          "text": [
            "author name :  EAP\n",
            "This process, however, afforded me no means of ascertaining the dimensions of my dungeon; as I might make its circuit, and return to the point whence I set out, without being aware of the fact; so perfectly uniform seemed the wall.\n",
            "In his left hand was a gold snuff box, from which, as he capered down the hill, cutting all manner of fantastic steps, he took snuff incessantly with an air of the greatest possible self satisfaction.\n",
            "The astronomer, perhaps, at this point, took refuge in the suggestion of non luminosity; and here analogy was suddenly let fall.\n",
            "The surcingle hung in ribands from my body.\n",
            "I knew that you could not say to yourself 'stereotomy' without being brought to think of atomies, and thus of the theories of Epicurus; and since, when we discussed this subject not very long ago, I mentioned to you how singularly, yet with how little notice, the vague guesses of that noble Greek had met with confirmation in the late nebular cosmogony, I felt that you could not avoid casting your eyes upward to the great nebula in Orion, and I certainly expected that you would do so.\n",
            "\n",
            "\n",
            "author name :  HPL\n",
            "It never once occurred to me that the fumbling might be a mere mistake.\n",
            "Finding nothing else, not even gold, the Superintendent abandoned his attempts; but a perplexed look occasionally steals over his countenance as he sits thinking at his desk.\n",
            "Herbert West needed fresh bodies because his life work was the reanimation of the dead.\n",
            "The farm like grounds extended back very deeply up the hill, almost to Wheaton Street.\n",
            "His facial aspect, too, was remarkable for its maturity; for though he shared his mother's and grandfather's chinlessness, his firm and precociously shaped nose united with the expression of his large, dark, almost Latin eyes to give him an air of quasi adulthood and well nigh preternatural intelligence.\n",
            "\n",
            "\n",
            "author name :  MWS\n",
            "How lovely is spring As we looked from Windsor Terrace on the sixteen fertile counties spread beneath, speckled by happy cottages and wealthier towns, all looked as in former years, heart cheering and fair.\n",
            "A youth passed in solitude, my best years spent under your gentle and feminine fosterage, has so refined the groundwork of my character that I cannot overcome an intense distaste to the usual brutality exercised on board ship: I have never believed it to be necessary, and when I heard of a mariner equally noted for his kindliness of heart and the respect and obedience paid to him by his crew, I felt myself peculiarly fortunate in being able to secure his services.\n",
            "I confess that neither the structure of languages, nor the code of governments, nor the politics of various states possessed attractions for me.\n",
            "He shall find that I can feel my injuries; he shall learn to dread my revenge\" A few days after he arrived.\n",
            "He had escaped me, and I must commence a destructive and almost endless journey across the mountainous ices of the ocean, amidst cold that few of the inhabitants could long endure and which I, the native of a genial and sunny climate, could not hope to survive.\n",
            "\n",
            "\n"
          ]
        }
      ]
    },
    {
      "cell_type": "markdown",
      "source": [
        "텍스트데이터에 꽤 많은 특수문자가 있다는 점을 알 수 있습니다. 그래서 이 특수문자들은 좋은 feature가 될 수 있을거에요! 나중에 만들어봅시다.  \n",
        "그거말고는.. 딱히..  \n",
        "**Feature Engineering:**  \n",
        "자 이제 몇가지 feature engineering을 해보겠어요. \n",
        "1. Meta features - 단어 수 , stopwords 수, 구두점 수 등과 같은 텍스트에서 추출된 features.\n",
        "2. Text based features - 빈도수, svd, word2vec 등과 같이 텍스트/단어를 직접 기반으로 하는 feature\n",
        "**Meta Features:**\n",
        "이제 메타 feature를 만드는 것 부터 시작해서 얼마나 작가를 잘 예측하는지 봅시다. feature list는 다음과 같습니다.\n",
        "\n",
        "1. Number of words in the text\n",
        "2. Number of unique words in the text\n",
        "3. Number of characters in the text\n",
        "4. Number of stopwords\n",
        "5. Number of punctuations\n",
        "6. Number of upper case words\n",
        "7. Number of title case words\n",
        "8. Average length of the words"
      ],
      "metadata": {
        "id": "6OBwoQ_skAAl"
      }
    },
    {
      "cell_type": "code",
      "source": [
        "## Number of words in the text ##\n",
        "train_df[\"num_words\"] = train_df[\"text\"].apply(lambda x: len(str(x).split()))\n",
        "test_df[\"num_words\"] = test_df[\"text\"].apply(lambda x: len(str(x).split()))\n",
        "\n",
        "## Number of unique words in the text ##\n",
        "train_df[\"num_unique_words\"] = train_df[\"text\"].apply(lambda x: len(set(str(x).split())))\n",
        "test_df[\"num_unique_words\"] = test_df[\"text\"].apply(lambda x: len(set(str(x).split())))\n",
        "\n",
        "## Number of characters in the text ##\n",
        "train_df[\"num_chars\"] = train_df[\"text\"].apply(lambda x: len(str(x)))\n",
        "test_df[\"num_chars\"] = train_df[\"text\"].apply(lambda x: len(str(x)))\n",
        "\n",
        "## Number of stopwords in the text ##\n",
        "train_df[\"num_stopwords\"] = train_df[\"text\"].apply(lambda x: len([w for w in str(x).lower().split() if w in eng_stopwords]))\n",
        "test_df[\"num_stopwords\"] = test_df[\"text\"].apply(lambda x : len([w for w in str(x).lower().split() if w in eng_stopwords]))\n",
        "\n",
        "## Number of punctuations in the text ##\n",
        "train_df[\"num_punctuations\"] = train_df[\"text\"].apply(lambda x : len([c for c in str(x) if c in string.punctuation]))\n",
        "test_df[\"num_punctuations\"] = test_df[\"text\"].apply(lambda x : len([c for c in str(x) if c in string.punctuation]))\n",
        "\n",
        "## Number of tilte case words in the text ##\n",
        "train_df[\"num_words_upper\"] = train_df[\"text\"].apply(lambda x: len([w for w in str(x).split() if w.isupper()]))\n",
        "test_df[\"num_words_upper\"] = test_df[\"text\"].apply(lambda x: len([w for w in str(x).split() if w.isupper()]))\n",
        "\n",
        "## Number of length of the words in the text ##\n",
        "train_df[\"mean_word_len\"] = train_df[\"text\"].apply(lambda x: np.mean([len(w) for w in str(x).split()]))\n",
        "test_df[\"mean_word_len\"] = test_df[\"text\"].apply(lambda x: np.mean([len(w) for w in str(x).split()]))\n"
      ],
      "metadata": {
        "id": "tKOYUlvL3nW8"
      },
      "execution_count": 71,
      "outputs": []
    },
    {
      "cell_type": "code",
      "source": [
        "train_df.head(5)"
      ],
      "metadata": {
        "colab": {
          "base_uri": "https://localhost:8080/",
          "height": 704
        },
        "id": "jV74qa7SGI0o",
        "outputId": "bea526cd-921e-438e-a2e0-13c142d66240"
      },
      "execution_count": 72,
      "outputs": [
        {
          "output_type": "execute_result",
          "data": {
            "text/plain": [
              "        id                                               text author  \\\n",
              "0  id26305  This process, however, afforded me no means of...    EAP   \n",
              "1  id17569  It never once occurred to me that the fumbling...    HPL   \n",
              "2  id11008  In his left hand was a gold snuff box, from wh...    EAP   \n",
              "3  id27763  How lovely is spring As we looked from Windsor...    MWS   \n",
              "4  id12958  Finding nothing else, not even gold, the Super...    HPL   \n",
              "\n",
              "   num_words  num_unique_words  num_chars  num_stopwords  num_punctuations  \\\n",
              "0         41                35        231             19                 7   \n",
              "1         14                14         71              8                 1   \n",
              "2         36                32        200             16                 5   \n",
              "3         34                32        206             13                 4   \n",
              "4         27                25        174             11                 4   \n",
              "\n",
              "   num_words_upper  mean_word_len  \n",
              "0                2       4.658537  \n",
              "1                0       4.142857  \n",
              "2                0       4.583333  \n",
              "3                0       5.088235  \n",
              "4                0       5.481481  "
            ],
            "text/html": [
              "\n",
              "  <div id=\"df-87faab0e-3945-4839-a294-86ed7a06bf22\">\n",
              "    <div class=\"colab-df-container\">\n",
              "      <div>\n",
              "<style scoped>\n",
              "    .dataframe tbody tr th:only-of-type {\n",
              "        vertical-align: middle;\n",
              "    }\n",
              "\n",
              "    .dataframe tbody tr th {\n",
              "        vertical-align: top;\n",
              "    }\n",
              "\n",
              "    .dataframe thead th {\n",
              "        text-align: right;\n",
              "    }\n",
              "</style>\n",
              "<table border=\"1\" class=\"dataframe\">\n",
              "  <thead>\n",
              "    <tr style=\"text-align: right;\">\n",
              "      <th></th>\n",
              "      <th>id</th>\n",
              "      <th>text</th>\n",
              "      <th>author</th>\n",
              "      <th>num_words</th>\n",
              "      <th>num_unique_words</th>\n",
              "      <th>num_chars</th>\n",
              "      <th>num_stopwords</th>\n",
              "      <th>num_punctuations</th>\n",
              "      <th>num_words_upper</th>\n",
              "      <th>mean_word_len</th>\n",
              "    </tr>\n",
              "  </thead>\n",
              "  <tbody>\n",
              "    <tr>\n",
              "      <th>0</th>\n",
              "      <td>id26305</td>\n",
              "      <td>This process, however, afforded me no means of...</td>\n",
              "      <td>EAP</td>\n",
              "      <td>41</td>\n",
              "      <td>35</td>\n",
              "      <td>231</td>\n",
              "      <td>19</td>\n",
              "      <td>7</td>\n",
              "      <td>2</td>\n",
              "      <td>4.658537</td>\n",
              "    </tr>\n",
              "    <tr>\n",
              "      <th>1</th>\n",
              "      <td>id17569</td>\n",
              "      <td>It never once occurred to me that the fumbling...</td>\n",
              "      <td>HPL</td>\n",
              "      <td>14</td>\n",
              "      <td>14</td>\n",
              "      <td>71</td>\n",
              "      <td>8</td>\n",
              "      <td>1</td>\n",
              "      <td>0</td>\n",
              "      <td>4.142857</td>\n",
              "    </tr>\n",
              "    <tr>\n",
              "      <th>2</th>\n",
              "      <td>id11008</td>\n",
              "      <td>In his left hand was a gold snuff box, from wh...</td>\n",
              "      <td>EAP</td>\n",
              "      <td>36</td>\n",
              "      <td>32</td>\n",
              "      <td>200</td>\n",
              "      <td>16</td>\n",
              "      <td>5</td>\n",
              "      <td>0</td>\n",
              "      <td>4.583333</td>\n",
              "    </tr>\n",
              "    <tr>\n",
              "      <th>3</th>\n",
              "      <td>id27763</td>\n",
              "      <td>How lovely is spring As we looked from Windsor...</td>\n",
              "      <td>MWS</td>\n",
              "      <td>34</td>\n",
              "      <td>32</td>\n",
              "      <td>206</td>\n",
              "      <td>13</td>\n",
              "      <td>4</td>\n",
              "      <td>0</td>\n",
              "      <td>5.088235</td>\n",
              "    </tr>\n",
              "    <tr>\n",
              "      <th>4</th>\n",
              "      <td>id12958</td>\n",
              "      <td>Finding nothing else, not even gold, the Super...</td>\n",
              "      <td>HPL</td>\n",
              "      <td>27</td>\n",
              "      <td>25</td>\n",
              "      <td>174</td>\n",
              "      <td>11</td>\n",
              "      <td>4</td>\n",
              "      <td>0</td>\n",
              "      <td>5.481481</td>\n",
              "    </tr>\n",
              "  </tbody>\n",
              "</table>\n",
              "</div>\n",
              "      <button class=\"colab-df-convert\" onclick=\"convertToInteractive('df-87faab0e-3945-4839-a294-86ed7a06bf22')\"\n",
              "              title=\"Convert this dataframe to an interactive table.\"\n",
              "              style=\"display:none;\">\n",
              "        \n",
              "  <svg xmlns=\"http://www.w3.org/2000/svg\" height=\"24px\"viewBox=\"0 0 24 24\"\n",
              "       width=\"24px\">\n",
              "    <path d=\"M0 0h24v24H0V0z\" fill=\"none\"/>\n",
              "    <path d=\"M18.56 5.44l.94 2.06.94-2.06 2.06-.94-2.06-.94-.94-2.06-.94 2.06-2.06.94zm-11 1L8.5 8.5l.94-2.06 2.06-.94-2.06-.94L8.5 2.5l-.94 2.06-2.06.94zm10 10l.94 2.06.94-2.06 2.06-.94-2.06-.94-.94-2.06-.94 2.06-2.06.94z\"/><path d=\"M17.41 7.96l-1.37-1.37c-.4-.4-.92-.59-1.43-.59-.52 0-1.04.2-1.43.59L10.3 9.45l-7.72 7.72c-.78.78-.78 2.05 0 2.83L4 21.41c.39.39.9.59 1.41.59.51 0 1.02-.2 1.41-.59l7.78-7.78 2.81-2.81c.8-.78.8-2.07 0-2.86zM5.41 20L4 18.59l7.72-7.72 1.47 1.35L5.41 20z\"/>\n",
              "  </svg>\n",
              "      </button>\n",
              "      \n",
              "  <style>\n",
              "    .colab-df-container {\n",
              "      display:flex;\n",
              "      flex-wrap:wrap;\n",
              "      gap: 12px;\n",
              "    }\n",
              "\n",
              "    .colab-df-convert {\n",
              "      background-color: #E8F0FE;\n",
              "      border: none;\n",
              "      border-radius: 50%;\n",
              "      cursor: pointer;\n",
              "      display: none;\n",
              "      fill: #1967D2;\n",
              "      height: 32px;\n",
              "      padding: 0 0 0 0;\n",
              "      width: 32px;\n",
              "    }\n",
              "\n",
              "    .colab-df-convert:hover {\n",
              "      background-color: #E2EBFA;\n",
              "      box-shadow: 0px 1px 2px rgba(60, 64, 67, 0.3), 0px 1px 3px 1px rgba(60, 64, 67, 0.15);\n",
              "      fill: #174EA6;\n",
              "    }\n",
              "\n",
              "    [theme=dark] .colab-df-convert {\n",
              "      background-color: #3B4455;\n",
              "      fill: #D2E3FC;\n",
              "    }\n",
              "\n",
              "    [theme=dark] .colab-df-convert:hover {\n",
              "      background-color: #434B5C;\n",
              "      box-shadow: 0px 1px 3px 1px rgba(0, 0, 0, 0.15);\n",
              "      filter: drop-shadow(0px 1px 2px rgba(0, 0, 0, 0.3));\n",
              "      fill: #FFFFFF;\n",
              "    }\n",
              "  </style>\n",
              "\n",
              "      <script>\n",
              "        const buttonEl =\n",
              "          document.querySelector('#df-87faab0e-3945-4839-a294-86ed7a06bf22 button.colab-df-convert');\n",
              "        buttonEl.style.display =\n",
              "          google.colab.kernel.accessAllowed ? 'block' : 'none';\n",
              "\n",
              "        async function convertToInteractive(key) {\n",
              "          const element = document.querySelector('#df-87faab0e-3945-4839-a294-86ed7a06bf22');\n",
              "          const dataTable =\n",
              "            await google.colab.kernel.invokeFunction('convertToInteractive',\n",
              "                                                     [key], {});\n",
              "          if (!dataTable) return;\n",
              "\n",
              "          const docLinkHtml = 'Like what you see? Visit the ' +\n",
              "            '<a target=\"_blank\" href=https://colab.research.google.com/notebooks/data_table.ipynb>data table notebook</a>'\n",
              "            + ' to learn more about interactive tables.';\n",
              "          element.innerHTML = '';\n",
              "          dataTable['output_type'] = 'display_data';\n",
              "          await google.colab.output.renderOutput(dataTable, element);\n",
              "          const docLink = document.createElement('div');\n",
              "          docLink.innerHTML = docLinkHtml;\n",
              "          element.appendChild(docLink);\n",
              "        }\n",
              "      </script>\n",
              "    </div>\n",
              "  </div>\n",
              "  "
            ]
          },
          "metadata": {},
          "execution_count": 72
        }
      ]
    },
    {
      "cell_type": "markdown",
      "source": [
        "Let's now plot some of our new variable to see of they will be helpful in predictions.  \n",
        "그림그려보자~!"
      ],
      "metadata": {
        "id": "3MgnQfIs0NiX"
      }
    },
    {
      "cell_type": "code",
      "source": [
        "train_df[\"num_words\"].loc[train_df[\"num_words\"]>80] = 80\n",
        "# truncation for better visuals 글자수 80이상은 80으로 하자!\n",
        "plt.figure(figsize=(12,8))\n",
        "sns.violinplot(x='author', y='num_words', data=train_df)\n",
        "plt.xlabel('Author Name', fontsize=12)\n",
        "plt.ylabel('Number of words in text', fontsize=12)\n",
        "plt.title(\"number of words by author\", fontsize=15)\n",
        "plt.show()"
      ],
      "metadata": {
        "colab": {
          "base_uri": "https://localhost:8080/",
          "height": 518
        },
        "id": "2Bqb5eKNFkld",
        "outputId": "d9ff0d0e-7c0d-45a5-d963-9cfc8589ea6e"
      },
      "execution_count": 73,
      "outputs": [
        {
          "output_type": "display_data",
          "data": {
            "text/plain": [
              "<Figure size 864x576 with 1 Axes>"
            ],
            "image/png": "[encoded data removed]"
          },
          "metadata": {
            "needs_background": "light"
          }
        }
      ]
    },
    {
      "cell_type": "markdown",
      "source": [
        "EAP는 상대적으로 적은 단어수를 갖고있어요"
      ],
      "metadata": {
        "id": "z6Vn4NgoGVkR"
      }
    },
    {
      "cell_type": "code",
      "source": [
        "train_df['num_punctuations'].loc[train_df['num_punctuations']>10] = 10\n",
        "# truncation for better visuals punctuation이 10개 넘으면 10개로 걍 쳐요\n",
        "plt.figure(figsize=(12,8))\n",
        "sns.violinplot(x = 'author', y='num_punctuations', data=train_df)\n",
        "plt.xlabel('Author Name', fontsize=12)\n",
        "plt.ylabel('Number of punctuations in text', fontsize=12)\n",
        "plt.title('Number of punctuations by author', fontsize=15)\n",
        "plt.show()"
      ],
      "metadata": {
        "colab": {
          "base_uri": "https://localhost:8080/",
          "height": 518
        },
        "id": "IRCXXd7-GcGN",
        "outputId": "c5c9f29c-e602-4930-d387-8257b5767d82"
      },
      "execution_count": 74,
      "outputs": [
        {
          "output_type": "display_data",
          "data": {
            "text/plain": [
              "<Figure size 864x576 with 1 Axes>"
            ],
            "image/png": "[encoded data removed]"
          },
          "metadata": {
            "needs_background": "light"
          }
        }
      ]
    },
    {
      "cell_type": "markdown",
      "source": [
        "이것도 좀 쓸만해보임. 텍스트기반 feature를 만드는데 집중해보즈아  \n",
        "이런 메타 feature가 어떻게 도움이 되는 지 알아보기 위해서 먼저 basic model을 구축해보겠어요"
      ],
      "metadata": {
        "id": "u8gTOCXkG_qY"
      }
    },
    {
      "cell_type": "code",
      "source": [
        "## Prepare the data for modeling ##\n",
        "author_mapping_dict = {'EAP':0, 'HPL':1, 'MWS':2}\n",
        "# 맵핑을해줘요\n",
        "train_y =train_df['author'].map(author_mapping_dict)\n",
        "# 리얼 맵핑을 해줘요\n",
        "train_id = train_df['id'].values\n",
        "# id 값들 train_id에 넣어줘요 배열형태로 들어가요\n",
        "test_id = test_df['id'].values\n",
        "\n",
        "### recompute the truncated variables again ###\n",
        "# 시각화할때 \n",
        "train_df[\"num_words\"] = train_df[\"text\"].apply(lambda x: len(str(x).split()))\n",
        "test_df[\"num_words\"] = test_df[\"text\"].apply(lambda x: len(str(x).split()))\n",
        "train_df[\"num_punctuations\"] = train_df[\"text\"].apply(lambda x : len([c for c in str(x) if c in string.punctuation]))\n",
        "test_df[\"num_punctuations\"] = test_df[\"text\"].apply(lambda x : len([c for c in str(x) if c in string.punctuation]))\n",
        "\n",
        "cols_to_drop = ['id', 'text']\n",
        "train_X = train_df.drop(cols_to_drop + ['author'], axis=1)\n",
        "test_X = test_df.drop(cols_to_drop, axis =1)"
      ],
      "metadata": {
        "id": "7pCnymcQHOHV"
      },
      "execution_count": 75,
      "outputs": []
    },
    {
      "cell_type": "markdown",
      "source": [
        "We can train a simple XGBoost model with these meta features alone."
      ],
      "metadata": {
        "id": "ij9TvXxDJ2xP"
      }
    },
    {
      "cell_type": "code",
      "source": [
        "def runXGB(train_X, train_y, test_X, test_y=None, test_X2=None, seed_val=0, child=1, colsample=0.3):\n",
        "    param = {}\n",
        "    param['objective'] = 'multi:softprob'\n",
        "    param['eta'] = 0.1\n",
        "    param['max_depth'] = 3\n",
        "    param['silent'] = 1\n",
        "    param['num_class'] = 3\n",
        "    param['eval_metric'] = \"mlogloss\"\n",
        "    param['min_child_weight'] = child\n",
        "    param['subsample'] = 0.8\n",
        "    param['colsample_bytree'] = colsample\n",
        "    param['seed'] = seed_val\n",
        "    num_rounds = 2000\n",
        "    # 하이퍼파라미터\n",
        "\n",
        "    plst = list(param.items())\n",
        "    xgtrain = xgb.DMatrix(train_X, label=train_y)\n",
        "\n",
        "    if test_y is not None:\n",
        "        xgtest = xgb.DMatrix(test_X, label=test_y)\n",
        "        watchlist = [ (xgtrain,'train'), (xgtest, 'test') ]\n",
        "        model = xgb.train(plst, xgtrain, num_rounds, watchlist, early_stopping_rounds=50, verbose_eval=20)\n",
        "    else:\n",
        "        xgtest = xgb.DMatrix(test_X)\n",
        "        model = xgb.train(plst, xgtrain, num_rounds)\n",
        "\n",
        "    pred_test_y = model.predict(xgtest, ntree_limit = model.best_ntree_limit)\n",
        "    if test_X2 is not None:\n",
        "        xgtest2 = xgb.DMatrix(test_X2)\n",
        "        pred_test_y2 = model.predict(xgtest2, ntree_limit = model.best_ntree_limit)\n",
        "    return pred_test_y, pred_test_y2, model"
      ],
      "metadata": {
        "id": "AluKnkbSJ8bT"
      },
      "execution_count": 76,
      "outputs": []
    },
    {
      "cell_type": "markdown",
      "source": [
        "x2는 뭔교"
      ],
      "metadata": {
        "id": "mUEkmf6NM2vQ"
      }
    },
    {
      "cell_type": "markdown",
      "source": [
        "커널 실행 시간을 위해 점수에 대한 k-fold 교차검증의 첫번째 폴드만 확인할 수 있습니다. 로컬에서 실행하는동안에는 중단 줄을 제거하셈"
      ],
      "metadata": {
        "id": "Cg_2UlSLLiFo"
      }
    },
    {
      "cell_type": "code",
      "source": [
        "kf = model_selection.KFold(n_splits=5, shuffle=True, random_state=2017)\n",
        "cv_scores = []\n",
        "pred_full_test = 0\n",
        "pred_train = np.zeros([train_df.shape[0], 3])\n",
        "for dev_index, val_index in kf.split(train_X):\n",
        "    dev_X, val_X = train_X.loc[dev_index], train_X.loc[val_index]\n",
        "    dev_y, val_y = train_y[dev_index], train_y[val_index]\n",
        "    pred_val_y, pred_test_y, model = runXGB(dev_X, dev_y, val_X, val_y, test_X, seed_val=0)\n",
        "    pred_full_test = pred_full_test + pred_test_y\n",
        "    pred_train[val_index,:] = pred_val_y\n",
        "    cv_scores.append(metrics.log_loss(val_y, pred_val_y))\n",
        "    #break\n",
        "print(\"cv scores : \", cv_scores)"
      ],
      "metadata": {
        "colab": {
          "base_uri": "https://localhost:8080/"
        },
        "id": "uUlMWwzAM5Cx",
        "outputId": "4945bbf7-abe3-4bcf-ebd4-b30bb958ebb7"
      },
      "execution_count": 77,
      "outputs": [
        {
          "output_type": "stream",
          "name": "stdout",
          "text": [
            "[0]\ttrain-mlogloss:1.09356\ttest-mlogloss:1.09448\n",
            "Multiple eval metrics have been passed: 'test-mlogloss' will be used for early stopping.\n",
            "\n",
            "Will train until test-mlogloss hasn't improved in 50 rounds.\n",
            "[20]\ttrain-mlogloss:1.03974\ttest-mlogloss:1.0506\n",
            "[40]\ttrain-mlogloss:1.02298\ttest-mlogloss:1.03924\n",
            "[60]\ttrain-mlogloss:1.01191\ttest-mlogloss:1.03171\n",
            "[80]\ttrain-mlogloss:1.00314\ttest-mlogloss:1.02653\n",
            "[100]\ttrain-mlogloss:0.996184\ttest-mlogloss:1.02238\n",
            "[120]\ttrain-mlogloss:0.989146\ttest-mlogloss:1.01744\n",
            "[140]\ttrain-mlogloss:0.982954\ttest-mlogloss:1.01445\n",
            "[160]\ttrain-mlogloss:0.97828\ttest-mlogloss:1.01214\n",
            "[180]\ttrain-mlogloss:0.97301\ttest-mlogloss:1.00945\n",
            "[200]\ttrain-mlogloss:0.969259\ttest-mlogloss:1.00818\n",
            "[220]\ttrain-mlogloss:0.9655\ttest-mlogloss:1.00696\n",
            "[240]\ttrain-mlogloss:0.961659\ttest-mlogloss:1.00516\n",
            "[260]\ttrain-mlogloss:0.95836\ttest-mlogloss:1.00427\n",
            "[280]\ttrain-mlogloss:0.955478\ttest-mlogloss:1.00353\n",
            "[300]\ttrain-mlogloss:0.952493\ttest-mlogloss:1.00329\n",
            "[320]\ttrain-mlogloss:0.949435\ttest-mlogloss:1.00242\n",
            "[340]\ttrain-mlogloss:0.94697\ttest-mlogloss:1.00201\n",
            "[360]\ttrain-mlogloss:0.944183\ttest-mlogloss:1.0015\n",
            "[380]\ttrain-mlogloss:0.941638\ttest-mlogloss:1.00117\n",
            "[400]\ttrain-mlogloss:0.939464\ttest-mlogloss:1.00109\n",
            "[420]\ttrain-mlogloss:0.937045\ttest-mlogloss:1.00071\n",
            "[440]\ttrain-mlogloss:0.935108\ttest-mlogloss:1.00065\n",
            "[460]\ttrain-mlogloss:0.933025\ttest-mlogloss:1.00079\n",
            "Stopping. Best iteration:\n",
            "[429]\ttrain-mlogloss:0.936149\ttest-mlogloss:1.00047\n",
            "\n",
            "[0]\ttrain-mlogloss:1.09367\ttest-mlogloss:1.0933\n",
            "Multiple eval metrics have been passed: 'test-mlogloss' will be used for early stopping.\n",
            "\n",
            "Will train until test-mlogloss hasn't improved in 50 rounds.\n",
            "[20]\ttrain-mlogloss:1.04226\ttest-mlogloss:1.0402\n",
            "[40]\ttrain-mlogloss:1.02575\ttest-mlogloss:1.02572\n",
            "[60]\ttrain-mlogloss:1.01443\ttest-mlogloss:1.01769\n",
            "[80]\ttrain-mlogloss:1.00556\ttest-mlogloss:1.01151\n",
            "[100]\ttrain-mlogloss:0.997839\ttest-mlogloss:1.007\n",
            "[120]\ttrain-mlogloss:0.990831\ttest-mlogloss:1.0034\n",
            "[140]\ttrain-mlogloss:0.984652\ttest-mlogloss:1.00027\n",
            "[160]\ttrain-mlogloss:0.979745\ttest-mlogloss:0.998218\n",
            "[180]\ttrain-mlogloss:0.975032\ttest-mlogloss:0.995916\n",
            "[200]\ttrain-mlogloss:0.971189\ttest-mlogloss:0.994254\n",
            "[220]\ttrain-mlogloss:0.967783\ttest-mlogloss:0.993504\n",
            "[240]\ttrain-mlogloss:0.963682\ttest-mlogloss:0.991682\n",
            "[260]\ttrain-mlogloss:0.960532\ttest-mlogloss:0.990629\n",
            "[280]\ttrain-mlogloss:0.957719\ttest-mlogloss:0.990138\n",
            "[300]\ttrain-mlogloss:0.955018\ttest-mlogloss:0.989929\n",
            "[320]\ttrain-mlogloss:0.952364\ttest-mlogloss:0.989552\n",
            "[340]\ttrain-mlogloss:0.950006\ttest-mlogloss:0.989149\n",
            "[360]\ttrain-mlogloss:0.94705\ttest-mlogloss:0.988662\n",
            "[380]\ttrain-mlogloss:0.944543\ttest-mlogloss:0.988352\n",
            "[400]\ttrain-mlogloss:0.942402\ttest-mlogloss:0.987925\n",
            "[420]\ttrain-mlogloss:0.939965\ttest-mlogloss:0.987083\n",
            "[440]\ttrain-mlogloss:0.93829\ttest-mlogloss:0.987186\n",
            "[460]\ttrain-mlogloss:0.936428\ttest-mlogloss:0.987113\n",
            "[480]\ttrain-mlogloss:0.934334\ttest-mlogloss:0.986937\n",
            "[500]\ttrain-mlogloss:0.932334\ttest-mlogloss:0.986823\n",
            "[520]\ttrain-mlogloss:0.930441\ttest-mlogloss:0.986707\n",
            "[540]\ttrain-mlogloss:0.928641\ttest-mlogloss:0.986759\n",
            "[560]\ttrain-mlogloss:0.926941\ttest-mlogloss:0.987022\n",
            "[580]\ttrain-mlogloss:0.924966\ttest-mlogloss:0.987043\n",
            "Stopping. Best iteration:\n",
            "[531]\ttrain-mlogloss:0.929354\ttest-mlogloss:0.986591\n",
            "\n",
            "[0]\ttrain-mlogloss:1.09375\ttest-mlogloss:1.09415\n",
            "Multiple eval metrics have been passed: 'test-mlogloss' will be used for early stopping.\n",
            "\n",
            "Will train until test-mlogloss hasn't improved in 50 rounds.\n",
            "[20]\ttrain-mlogloss:1.04021\ttest-mlogloss:1.04975\n",
            "[40]\ttrain-mlogloss:1.02362\ttest-mlogloss:1.03795\n",
            "[60]\ttrain-mlogloss:1.01222\ttest-mlogloss:1.03055\n",
            "[80]\ttrain-mlogloss:1.00308\ttest-mlogloss:1.02497\n",
            "[100]\ttrain-mlogloss:0.995645\ttest-mlogloss:1.0209\n",
            "[120]\ttrain-mlogloss:0.988563\ttest-mlogloss:1.01674\n",
            "[140]\ttrain-mlogloss:0.982282\ttest-mlogloss:1.01368\n",
            "[160]\ttrain-mlogloss:0.97721\ttest-mlogloss:1.01171\n",
            "[180]\ttrain-mlogloss:0.972233\ttest-mlogloss:1.0091\n",
            "[200]\ttrain-mlogloss:0.968354\ttest-mlogloss:1.00803\n",
            "[220]\ttrain-mlogloss:0.96458\ttest-mlogloss:1.00707\n",
            "[240]\ttrain-mlogloss:0.960731\ttest-mlogloss:1.00526\n",
            "[260]\ttrain-mlogloss:0.957543\ttest-mlogloss:1.00409\n",
            "[280]\ttrain-mlogloss:0.954559\ttest-mlogloss:1.00368\n",
            "[300]\ttrain-mlogloss:0.951749\ttest-mlogloss:1.00302\n",
            "[320]\ttrain-mlogloss:0.948669\ttest-mlogloss:1.0022\n",
            "[340]\ttrain-mlogloss:0.945906\ttest-mlogloss:1.00158\n",
            "[360]\ttrain-mlogloss:0.943194\ttest-mlogloss:1.00089\n",
            "[380]\ttrain-mlogloss:0.940817\ttest-mlogloss:1.00028\n",
            "[400]\ttrain-mlogloss:0.938798\ttest-mlogloss:1.00044\n",
            "[420]\ttrain-mlogloss:0.936291\ttest-mlogloss:0.999646\n",
            "[440]\ttrain-mlogloss:0.934389\ttest-mlogloss:0.99965\n",
            "[460]\ttrain-mlogloss:0.932449\ttest-mlogloss:0.999549\n",
            "[480]\ttrain-mlogloss:0.930397\ttest-mlogloss:0.999961\n",
            "[500]\ttrain-mlogloss:0.928443\ttest-mlogloss:1.00004\n",
            "Stopping. Best iteration:\n",
            "[458]\ttrain-mlogloss:0.932642\ttest-mlogloss:0.999284\n",
            "\n",
            "[0]\ttrain-mlogloss:1.09369\ttest-mlogloss:1.09375\n",
            "Multiple eval metrics have been passed: 'test-mlogloss' will be used for early stopping.\n",
            "\n",
            "Will train until test-mlogloss hasn't improved in 50 rounds.\n",
            "[20]\ttrain-mlogloss:1.0416\ttest-mlogloss:1.04418\n",
            "[40]\ttrain-mlogloss:1.02501\ttest-mlogloss:1.03191\n",
            "[60]\ttrain-mlogloss:1.01385\ttest-mlogloss:1.02404\n",
            "[80]\ttrain-mlogloss:1.00459\ttest-mlogloss:1.01896\n",
            "[100]\ttrain-mlogloss:0.997604\ttest-mlogloss:1.01501\n",
            "[120]\ttrain-mlogloss:0.989832\ttest-mlogloss:1.01017\n",
            "[140]\ttrain-mlogloss:0.983662\ttest-mlogloss:1.00707\n",
            "[160]\ttrain-mlogloss:0.978833\ttest-mlogloss:1.00482\n",
            "[180]\ttrain-mlogloss:0.974046\ttest-mlogloss:1.00255\n",
            "[200]\ttrain-mlogloss:0.970317\ttest-mlogloss:1.00127\n",
            "[220]\ttrain-mlogloss:0.966555\ttest-mlogloss:1.00024\n",
            "[240]\ttrain-mlogloss:0.962518\ttest-mlogloss:0.998615\n",
            "[260]\ttrain-mlogloss:0.959223\ttest-mlogloss:0.997596\n",
            "[280]\ttrain-mlogloss:0.956458\ttest-mlogloss:0.996563\n",
            "[300]\ttrain-mlogloss:0.953496\ttest-mlogloss:0.996021\n",
            "[320]\ttrain-mlogloss:0.950454\ttest-mlogloss:0.995403\n",
            "[340]\ttrain-mlogloss:0.948033\ttest-mlogloss:0.995238\n",
            "[360]\ttrain-mlogloss:0.945062\ttest-mlogloss:0.994567\n",
            "[380]\ttrain-mlogloss:0.942496\ttest-mlogloss:0.994283\n",
            "[400]\ttrain-mlogloss:0.94028\ttest-mlogloss:0.994286\n",
            "[420]\ttrain-mlogloss:0.937633\ttest-mlogloss:0.993899\n",
            "[440]\ttrain-mlogloss:0.935718\ttest-mlogloss:0.993985\n",
            "[460]\ttrain-mlogloss:0.933542\ttest-mlogloss:0.993984\n",
            "Stopping. Best iteration:\n",
            "[427]\ttrain-mlogloss:0.936941\ttest-mlogloss:0.993857\n",
            "\n",
            "[0]\ttrain-mlogloss:1.09387\ttest-mlogloss:1.09412\n",
            "Multiple eval metrics have been passed: 'test-mlogloss' will be used for early stopping.\n",
            "\n",
            "Will train until test-mlogloss hasn't improved in 50 rounds.\n",
            "[20]\ttrain-mlogloss:1.04761\ttest-mlogloss:1.05038\n",
            "[40]\ttrain-mlogloss:1.02675\ttest-mlogloss:1.03284\n",
            "[60]\ttrain-mlogloss:1.01213\ttest-mlogloss:1.02035\n",
            "[80]\ttrain-mlogloss:1.00413\ttest-mlogloss:1.01461\n",
            "[100]\ttrain-mlogloss:0.996382\ttest-mlogloss:1.00924\n",
            "[120]\ttrain-mlogloss:0.990439\ttest-mlogloss:1.00542\n",
            "[140]\ttrain-mlogloss:0.985159\ttest-mlogloss:1.00281\n",
            "[160]\ttrain-mlogloss:0.980203\ttest-mlogloss:1.00063\n",
            "[180]\ttrain-mlogloss:0.975141\ttest-mlogloss:0.997588\n",
            "[200]\ttrain-mlogloss:0.971145\ttest-mlogloss:0.995214\n",
            "[220]\ttrain-mlogloss:0.967418\ttest-mlogloss:0.99374\n",
            "[240]\ttrain-mlogloss:0.964151\ttest-mlogloss:0.99251\n",
            "[260]\ttrain-mlogloss:0.960912\ttest-mlogloss:0.991431\n",
            "[280]\ttrain-mlogloss:0.957786\ttest-mlogloss:0.990477\n",
            "[300]\ttrain-mlogloss:0.954651\ttest-mlogloss:0.989674\n",
            "[320]\ttrain-mlogloss:0.951968\ttest-mlogloss:0.989184\n",
            "[340]\ttrain-mlogloss:0.949344\ttest-mlogloss:0.988772\n",
            "[360]\ttrain-mlogloss:0.946923\ttest-mlogloss:0.988605\n",
            "[380]\ttrain-mlogloss:0.944531\ttest-mlogloss:0.988468\n",
            "[400]\ttrain-mlogloss:0.942123\ttest-mlogloss:0.988488\n",
            "[420]\ttrain-mlogloss:0.939346\ttest-mlogloss:0.987859\n",
            "[440]\ttrain-mlogloss:0.937057\ttest-mlogloss:0.987293\n",
            "[460]\ttrain-mlogloss:0.934951\ttest-mlogloss:0.986886\n",
            "[480]\ttrain-mlogloss:0.933021\ttest-mlogloss:0.986948\n",
            "[500]\ttrain-mlogloss:0.931121\ttest-mlogloss:0.987259\n",
            "Stopping. Best iteration:\n",
            "[457]\ttrain-mlogloss:0.935277\ttest-mlogloss:0.986779\n",
            "\n",
            "cv scores :  [1.0004668811491222, 0.9865903762495953, 0.99928358926336, 0.9938565070814128, 0.9867785912711236]\n"
          ]
        }
      ]
    },
    {
      "cell_type": "markdown",
      "source": [
        "meta feature를 이용해서 mlogloss 1.0010을 얻었어용.. 좋은데?   \n",
        "이제 이런 feature 중 어떤 것이 중요한지 봅시다"
      ],
      "metadata": {
        "id": "Q5WA_ZAbOMzx"
      }
    },
    {
      "cell_type": "code",
      "source": [
        "## plot the important variables ##\n",
        "fig, ax = plt.subplots(figsize=(12,12))\n",
        "xgb.plot_importance(model, max_num_features=50, height=0.8, ax=ax)\n",
        "plt.show()"
      ],
      "metadata": {
        "colab": {
          "base_uri": "https://localhost:8080/",
          "height": 663
        },
        "id": "4EKUzc92OayX",
        "outputId": "564cb953-9eb9-4521-fb01-7c3c530c1c3f"
      },
      "execution_count": 78,
      "outputs": [
        {
          "output_type": "display_data",
          "data": {
            "text/plain": [
              "<Figure size 864x864 with 1 Axes>"
            ],
            "image/png": "[encoded data removed]"
          },
          "metadata": {
            "needs_background": "light"
          }
        }
      ]
    },
    {
      "cell_type": "markdown",
      "source": [
        "원 노트북이랑 살쟉 다르네요  \n",
        "글자개수, 평균 단어길이, 단어 개수가 상위3개네요"
      ],
      "metadata": {
        "id": "2NIe3y98Osut"
      }
    },
    {
      "cell_type": "markdown",
      "source": [
        "Text Based Features:  \n",
        "우리가 만들 수 있는 기본 기능 중 하나는 텍스트에 있는 단어의 tf-idf 값입니다. 그걸로 함 시작해봅시다"
      ],
      "metadata": {
        "id": "F4YY6epRO-FA"
      }
    },
    {
      "cell_type": "code",
      "source": [
        "## Fit transform the tfidf vectorizer ##\n",
        "tfidf_vec = TfidfVectorizer(stop_words = 'english', ngram_range=(1,3))\n",
        "full_tfidf = tfidf_vec.fit_transform(train_df['text'].values.tolist()+test_df['text'].values.tolist())\n",
        "train_tfidf=tfidf_vec.transform(train_df['text'].values.tolist())\n",
        "test_tfidf = tfidf_vec.transform(test_df['text'].values.tolist())\n"
      ],
      "metadata": {
        "id": "T2CN1IyePJok"
      },
      "execution_count": 79,
      "outputs": []
    },
    {
      "cell_type": "markdown",
      "source": [
        "자 이제 tfidf 벡터를 얻었는데요? 여기 까다로운 부분이 있어요.  \n",
        "tfidf 출력은 sparse matrix라서 다른 dense feature들과 함께 사용하기 위해서는 몇가지 선택사항이 있어요\n",
        "1. tfidf 벡터라이저에서 상위 n번째 기능을 가져오도록 선택하고 이를 dense 포맷으로 변환하고 다른 기능과 연결할 수 있다!\n",
        "2. sparse feature만 사용해서 모델을 작성하고 다른 dense feature와 feature중 하나로 예측을 사용.  \n",
        "\n",
        "데이터셋을 기반하면, 하나가 다른 하나보다 더 잘 수행될 수 있습니다.\n",
        "여기서 우리는 tfidf 의 모든 기능을 사용하는 아주 좋은 스코어링 커널이 있기 때문에 두번째 접근 방식을 사용할 수 있어용    \n",
        "\n",
        "또한 naive bayes가 이 데이터셋에서 더 나은 성능을 보이는 것 같습니다. 따라서 tfidf  기능을 사용해서 학습 속도가 더 빠르기 때문에 나이브베이즈 모델을 구축할 수 있습니다."
      ],
      "metadata": {
        "id": "MjgoNQ_APpIm"
      }
    },
    {
      "cell_type": "code",
      "source": [
        "def runMNB(train_X, train_y, test_X, test_y, test_X2):\n",
        "    model = naive_bayes.MultinomialNB()\n",
        "    model.fit(train_X, train_y)\n",
        "    pred_test_y = model.predict_proba(test_X)\n",
        "    pred_test_y2 = model.predict_proba(test_X2)\n",
        "    return pred_test_y, pred_test_y2, model"
      ],
      "metadata": {
        "id": "VsOFDTn2Q4in"
      },
      "execution_count": 80,
      "outputs": []
    },
    {
      "cell_type": "markdown",
      "source": [
        "tfidf vectorizer에서 나이브베이즈"
      ],
      "metadata": {
        "id": "LMpFDl3vRM2u"
      }
    },
    {
      "cell_type": "code",
      "source": [
        "cv_scores=[]\n",
        "pred_full_test = 0\n",
        "pred_train = np.zeros([train_df.shape[0], 3])\n",
        "kf = model_selection.KFold(n_splits=5, shuffle=True, random_state=2017)\n",
        "for dev_index, val_index in kf.split(train_X):\n",
        "    dev_X, val_X = train_tfidf[dev_index], train_tfidf[val_index]\n",
        "    dev_y, val_y = train_y[dev_index], train_y[val_index]\n",
        "    pred_val_y, pred_test_y, model = runMNB(dev_X, dev_y, val_X, val_y, test_tfidf)\n",
        "    pred_full_test = pred_full_test + pred_test_y\n",
        "    pred_train[val_index, :] = pred_val_y\n",
        "    cv_scores.append(metrics.log_loss(val_y, pred_val_y))\n",
        "\n",
        "print(\"Mean cv scores : \", np.mean(cv_scores))\n",
        "pred_full_test = pred_full_test / 5."
      ],
      "metadata": {
        "colab": {
          "base_uri": "https://localhost:8080/"
        },
        "id": "CVNpoWUlRQ6q",
        "outputId": "b4a57d5e-7015-4c5e-c6b2-78e3586e23c1"
      },
      "execution_count": 81,
      "outputs": [
        {
          "output_type": "stream",
          "name": "stdout",
          "text": [
            "Mean cv scores :  0.8422161983612855\n"
          ]
        }
      ]
    },
    {
      "cell_type": "markdown",
      "source": [
        "소름돋게도 거의 원 노트북과 같네요! (당연함)"
      ],
      "metadata": {
        "id": "HgZ7WrYESBnZ"
      }
    },
    {
      "cell_type": "markdown",
      "source": [
        "0.842정도의 mlogloss를 얻엇습니당! 메타데이터가 저는 더 좋았어요! ; 왜죠 ? confusion matrix 함봅시다"
      ],
      "metadata": {
        "id": "buvrfDbeSSHQ"
      }
    },
    {
      "cell_type": "code",
      "source": [
        "### function to create confusion matrix ##\n",
        "import itertools\n",
        "from sklearn.metrics import confusion_matrix\n",
        "\n",
        "### from http://scikit-learn.org/stable/auto_examples/model_selection/plot_confusion_matrix.html#sphx-glr-auto-examples-model-selection-plot-confusion-matrix-py #\n",
        "def plot_confusion_matrix(cm, classes, normalize=False, title='Confusion matrix', cmap=plt.cm.Blues):\n",
        "    \"\"\"\n",
        "    This function prints and plots the confusion matrix.\n",
        "    Normalization can be applied by setting 'normalize=True'\n",
        "    \"\"\"\n",
        "    if normalize:\n",
        "        cm = cm.astype('float') / cm.sum(axis=1)[:, np.newaxis]\n",
        "    \n",
        "    plt.imshow(cm, interpolation='nearest', cmap=cmap)\n",
        "    plt.title(title)\n",
        "    plt.colorbar()\n",
        "    tick_marks = np.arange(len(classes))\n",
        "    plt.xticks(tick_marks, classes, rotation=45)\n",
        "    plt.yticks(tick_marks, classes)\n",
        "    \n",
        "    fmt = '.2f' if normalize else 'd'\n",
        "    thresh = cm.max() / 2.\n",
        "    for i, j in itertools.product(range(cm.shape[0]), range(cm.shape[1])):\n",
        "        plt.text(j, i, format(cm[i, j], fmt),\n",
        "                 horizontalalignment='center',\n",
        "                 color='white' if cm[i, j] > thresh else \"black\")\n",
        "    plt.tight_layout() \n",
        "    plt.ylabel('True lalbe')\n",
        "    plt.xlabel('Predicted label')"
      ],
      "metadata": {
        "id": "0cyshHiSSQ0M"
      },
      "execution_count": 82,
      "outputs": []
    },
    {
      "cell_type": "code",
      "source": [
        "cnf_matrix = confusion_matrix(val_y, np.argmax(pred_val_y,axis=1))\n",
        "np.set_printoptions(precision=2)\n",
        "\n",
        "# Plot non-normalized confusion matrix\n",
        "plt.figure(figsize=(8,8))\n",
        "plot_confusion_matrix(cnf_matrix, classes=['EAP', 'HPL', 'MWS'],\n",
        "                      title='Confusion matrix of XGB, without normalization')\n",
        "plt.show()"
      ],
      "metadata": {
        "colab": {
          "base_uri": "https://localhost:8080/",
          "height": 585
        },
        "id": "wTS1tDFhbAc8",
        "outputId": "0229a81b-e4ac-44f9-94e1-93178c3e1dde"
      },
      "execution_count": 83,
      "outputs": [
        {
          "output_type": "display_data",
          "data": {
            "text/plain": [
              "<Figure size 576x576 with 2 Axes>"
            ],
            "image/png": "[encoded data removed]"
          },
          "metadata": {
            "needs_background": "light"
          }
        }
      ]
    },
    {
      "cell_type": "markdown",
      "source": [
        "많은 인스턴스가  EAP로 예측되고 해당 클래스에 크게 치우쳐 있당..   \n",
        "SVD on word TFIDF:  \n",
        "tfidf 벡터가 희박하기 때문에 정보를 압축하고 훨씬 간결하게 표현하는 또 다른 방법은 SVD를 사용하는겁니다!   \n",
        "그리고 일반적으로 svd기능은 과거 텍스트기반 대회에서 잘 수행댔습니다 일단 저한테는요 ^^  \n",
        "그래서 tfidf에다가 svd 기능을 만들고 기능세트에 추가할거에욛ㅇ"
      ],
      "metadata": {
        "id": "7LX_gOHMUbI7"
      }
    },
    {
      "cell_type": "code",
      "source": [
        "n_comp = 20\n",
        "svd_obj = TruncatedSVD(n_components = n_comp, algorithm='arpack')\n",
        "svd_obj.fit(full_tfidf)\n",
        "train_svd = pd.DataFrame(svd_obj.transform(train_tfidf))\n",
        "test_svd = pd.DataFrame(svd_obj.transform(test_tfidf))\n",
        "\n",
        "train_svd.columns = ['svd_word_' +str(i) for i in range(n_comp)]\n",
        "test_svd.columns = ['svd_word_' +str(i) for i in range(n_comp)]\n",
        "train_df = pd.concat([train_df, train_svd], axis=1)\n",
        "test_df = pd.concat([test_df, test_svd], axis =1)\n",
        "del full_tfidf, train_tfidf, test_tfidf, train_svd, test_svd"
      ],
      "metadata": {
        "id": "QNYDglgrboVt"
      },
      "execution_count": 84,
      "outputs": []
    },
    {
      "cell_type": "markdown",
      "source": [
        "나이브베이즈 on count vectorizer:"
      ],
      "metadata": {
        "id": "aenCI4uAcZEt"
      }
    },
    {
      "cell_type": "code",
      "source": [
        "### fit transform the count vectorizer ###\n",
        "tfidf_vec = CountVectorizer(stop_words = 'english', ngram_range=(1,3))\n",
        "tfidf_vec.fit(train_df['text'].values.tolist() + test_df['text'].values.tolist())\n",
        "train_tfidf = tfidf_vec.transform(train_df['text'].values.tolist())\n",
        "test_tfidf = tfidf_vec.transform(test_df['text'].values.tolist())"
      ],
      "metadata": {
        "id": "WXMSnY6ccgx1"
      },
      "execution_count": 85,
      "outputs": []
    },
    {
      "cell_type": "markdown",
      "source": [
        "이제 feature를 기반으로 한 count vectorizer를 사용해서 multinomial 나이브 베이즈 모델을 만들어볼거에용"
      ],
      "metadata": {
        "id": "n0MN-LyYc568"
      }
    },
    {
      "cell_type": "code",
      "source": [
        "cv_scores = []\n",
        "pred_full_test = 0\n",
        "pred_train = np.zeros([train_df.shape[0], 3])\n",
        "kf = model_selection.KFold(n_splits=5, shuffle=True, random_state=2017)\n",
        "for dev_index, val_index in kf.split(train_X):\n",
        "    dev_X, val_X = train_tfidf[dev_index], train_tfidf[val_index]\n",
        "    dev_y, val_y = train_y[dev_index], train_y[val_index]\n",
        "    pred_val_y, pred_test_y, model = runMNB(dev_X, dev_y, val_X, val_y, test_tfidf)\n",
        "    pred_full_test = pred_full_test + pred_test_y\n",
        "    pred_train[val_index,:] = pred_val_y\n",
        "    cv_scores.append(metrics.log_loss(val_y, pred_val_y))\n",
        "print(\"Mean cv score : \", np.mean(cv_scores))\n",
        "pred_full_test = pred_full_test / 5.\n",
        "\n",
        "# add the predictions as new features #\n",
        "train_df[\"nb_cvec_eap\"] = pred_train[:,0]\n",
        "train_df[\"nb_cvec_hpl\"] = pred_train[:,1]\n",
        "train_df[\"nb_cvec_mws\"] = pred_train[:,2]\n",
        "test_df[\"nb_cvec_eap\"] = pred_full_test[:,0]\n",
        "test_df[\"nb_cvec_hpl\"] = pred_full_test[:,1]\n",
        "test_df[\"nb_cvec_mws\"] = pred_full_test[:,2]"
      ],
      "metadata": {
        "colab": {
          "base_uri": "https://localhost:8080/"
        },
        "id": "l0e98G1sdHqI",
        "outputId": "7ce18bd4-eeea-4ae8-dc73-0f78823f7a86"
      },
      "execution_count": 86,
      "outputs": [
        {
          "output_type": "stream",
          "name": "stdout",
          "text": [
            "Mean cv score :  0.45091841616567435\n"
          ]
        }
      ]
    },
    {
      "cell_type": "code",
      "source": [
        "cnf_matrix = confusion_matrix(val_y, np.argmax(pred_val_y,axis=1))\n",
        "np.set_printoptions(precision=2)\n",
        "\n",
        "# Plot non-normalized confusion matrix\n",
        "plt.figure(figsize=(8,8))\n",
        "plot_confusion_matrix(cnf_matrix, classes=['EAP', 'HPL', 'MWS'],\n",
        "                      title='Confusion matrix of XGB, without normalization')\n",
        "plt.show()"
      ],
      "metadata": {
        "colab": {
          "base_uri": "https://localhost:8080/",
          "height": 585
        },
        "id": "y2XIBDFXeJ1L",
        "outputId": "f83a4d57-df4f-4f54-e003-92497842e39d"
      },
      "execution_count": 87,
      "outputs": [
        {
          "output_type": "display_data",
          "data": {
            "text/plain": [
              "<Figure size 576x576 with 2 Axes>"
            ],
            "image/png": "[encoded data removed]"
          },
          "metadata": {
            "needs_background": "light"
          }
        }
      ]
    },
    {
      "cell_type": "markdown",
      "source": [
        "wow tfidf vectorizer대신에  count vectorizer사용했더니 0.45 의 mlogloss를 얻어버렸어요  \n",
        "이 모델을 사용한 LB 점수는 0.468입니다 글고 confusion matrix 보면 더 좋아보입니다. 안 치우쳐잇고?"
      ],
      "metadata": {
        "id": "ORhnO7GGeSzV"
      }
    },
    {
      "cell_type": "markdown",
      "source": [
        "Naive Bayes on Character count vectorizer:  \n",
        "데이터 아이볼링의 한 가지 아이디어는 특수문자를 계산하는게 도움이 되 수 있다는거임  \n",
        "특수문자를 계산하는 대신 문자 수준에서 count vectorizer를 사용해서 일부 기능을 쓸 수 있어용 다시 multinomial nb를 해봅시당"
      ],
      "metadata": {
        "id": "kvOyVOadenej"
      }
    },
    {
      "cell_type": "code",
      "source": [
        "## fit transform the tfidf vectorizer ##\n",
        "tfidf_vec = CountVectorizer(ngram_range=(1,7), analyzer = 'char')\n",
        "tfidf_vec.fit(train_df['text'].values.tolist() + test_df['text'].values.tolist())\n",
        "train_tfidf = tfidf_vec.transform(train_df['text'].values.tolist())\n",
        "test_tfidf = tfidf_vec.transform(test_df['text'].values.tolist())\n",
        "\n",
        "cv_scores = []\n",
        "pred_full_test = 0\n",
        "pred_train = np.zeros([train_df.shape[0], 3])\n",
        "kf = model_selection.KFold(n_splits=5, shuffle=True, random_state=2022)\n",
        "for dev_index, val_index in kf.split(train_X):\n",
        "    dev_X, val_X = train_tfidf[dev_index], train_tfidf[val_index]\n",
        "    dev_y, val_y = train_y[dev_index], train_y[val_index]\n",
        "    pred_val_y, pred_test_y, model = runMNB(dev_X, dev_y, val_X, val_y, test_tfidf)\n",
        "    pred_full_test = pred_full_test + pred_test_y\n",
        "    pred_train[val_index,:] = pred_val_y\n",
        "    cv_scores.append(metrics.log_loss(val_y, pred_val_y))\n",
        "print(\"Mean cv score : \", np.mean(cv_scores))\n",
        "pred_full_test = pred_full_test / 5.\n",
        "\n",
        "# add the predictions as new features #\n",
        "train_df[\"nb_cvec_char_eap\"] = pred_train[:,0]\n",
        "train_df[\"nb_cvec_char_hpl\"] = pred_train[:,1]\n",
        "train_df[\"nb_cvec_char_mws\"] = pred_train[:,2]\n",
        "test_df[\"nb_cvec_char_eap\"] = pred_full_test[:,0]\n",
        "test_df[\"nb_cvec_char_hpl\"] = pred_full_test[:,1]\n",
        "test_df[\"nb_cvec_char_mws\"] = pred_full_test[:,2]"
      ],
      "metadata": {
        "id": "Cz9EZvPse_0U"
      },
      "execution_count": null,
      "outputs": []
    },
    {
      "cell_type": "markdown",
      "source": [
        "cross val  점수가 매우 높습니다. 근데 이건 단어수준 기능고ㅏ 다른 정보를 추가할수 있으니까.. 최종 모델에도 사용하도록하겠습니당\n",
        "character tfidf vectorizer의 naive bayes:   \n",
        "character tfidf vectorizer에 대해 nb 예측을 얻도록 합쉬다"
      ],
      "metadata": {
        "id": "f9uMOVoEgBD1"
      }
    },
    {
      "cell_type": "code",
      "source": [
        "### Fit transform the tfidf vectorizer ###\n",
        "tfidf_vec = TfidfVectorizer(ngram_range=(1,5), analyzer='char')\n",
        "full_tfidf = tfidf_vec.fit_transform(train_df['text'].values.tolist() + test_df['text'].values.tolist())\n",
        "train_tfidf = tfidf_vec.transform(train_df['text'].values.tolist())\n",
        "test_tfidf = tfidf_vec.transform(test_df['text'].values.tolist())\n",
        "\n",
        "cv_scores = []\n",
        "pred_full_test = 0\n",
        "pred_train = np.zeros([train_df.shape[0], 3])\n",
        "kf = model_selection.KFold(n_splits=5, shuffle=True, random_state=2017)\n",
        "for dev_index, val_index in kf.split(train_X):\n",
        "    dev_X, val_X = train_tfidf[dev_index], train_tfidf[val_index]\n",
        "    dev_y, val_y = train_y[dev_index], train_y[val_index]\n",
        "    pred_val_y, pred_test_y, model = runMNB(dev_X, dev_y, val_X, val_y, test_tfidf)\n",
        "    pred_full_test = pred_full_test + pred_test_y\n",
        "    pred_train[val_index,:] = pred_val_y\n",
        "    cv_scores.append(metrics.log_loss(val_y, pred_val_y))\n",
        "print(\"Mean cv score : \", np.mean(cv_scores))\n",
        "pred_full_test = pred_full_test / 5.\n",
        "\n",
        "# add the predictions as new features #\n",
        "train_df[\"nb_tfidf_char_eap\"] = pred_train[:,0]\n",
        "train_df[\"nb_tfidf_char_hpl\"] = pred_train[:,1]\n",
        "train_df[\"nb_tfidf_char_mws\"] = pred_train[:,2]\n",
        "test_df[\"nb_tfidf_char_eap\"] = pred_full_test[:,0]\n",
        "test_df[\"nb_tfidf_char_hpl\"] = pred_full_test[:,1]\n",
        "test_df[\"nb_tfidf_char_mws\"] = pred_full_test[:,2]"
      ],
      "metadata": {
        "id": "30jLr7gIhvJv"
      },
      "execution_count": null,
      "outputs": []
    },
    {
      "cell_type": "markdown",
      "source": [
        "SVD on character tfidf:  \n",
        "우린이제 character feature에 svd feature를 만들고 모델링에 사용할수도있어요"
      ],
      "metadata": {
        "id": "PC3QF1wliQ_Z"
      }
    },
    {
      "cell_type": "code",
      "source": [
        "n_comp = 20\n",
        "svd_obj = TruncatedSVD(n_components=n_comp, algorithm='arpack')\n",
        "svd_obj.fit(full_tfidf)\n",
        "train_svd = pd.DataFrame(svd_obj.transform(train_tfidf))\n",
        "test_svd = pd.DataFrame(svd_obj.transform(test_tfidf))\n",
        "    \n",
        "train_svd.columns = ['svd_char_'+str(i) for i in range(n_comp)]\n",
        "test_svd.columns = ['svd_char_'+str(i) for i in range(n_comp)]\n",
        "train_df = pd.concat([train_df, train_svd], axis=1)\n",
        "test_df = pd.concat([test_df, test_svd], axis=1)\n",
        "del full_tfidf, train_tfidf, test_tfidf, train_svd, test_svd"
      ],
      "metadata": {
        "id": "FwM9jr8aifRq"
      },
      "execution_count": null,
      "outputs": []
    },
    {
      "cell_type": "markdown",
      "source": [
        "XGboost model:  \n",
        "이제 이 새로운 변수들로, xgboost model을 다시 돌려볼수있겠죠"
      ],
      "metadata": {
        "id": "qdQuNvnYifH5"
      }
    },
    {
      "cell_type": "code",
      "source": [
        "cols_to_drop = ['id', 'text']\n",
        "train_X = train_df.drop(cols_to_drop+['author'], axis=1)\n",
        "test_X = test_df.drop(cols_to_drop, axis=1)\n",
        "\n",
        "kf = model_selection.KFold(n_splits=5, shuffle=True, random_state=2017)\n",
        "cv_scores = []\n",
        "pred_full_test = 0\n",
        "pred_train = np.zeros([train_df.shape[0], 3])\n",
        "for dev_index, val_index in kf.split(train_X):\n",
        "    dev_X, val_X = train_X.loc[dev_index], train_X.loc[val_index]\n",
        "    dev_y, val_y = train_y[dev_index], train_y[val_index]\n",
        "    pred_val_y, pred_test_y, model = runXGB(dev_X, dev_y, val_X, val_y, test_X, seed_val=0, colsample=0.7)\n",
        "    pred_full_test = pred_full_test + pred_test_y\n",
        "    pred_train[val_index,:] = pred_val_y\n",
        "    cv_scores.append(metrics.log_loss(val_y, pred_val_y))\n",
        "    break\n",
        "print(\"cv scores : \", cv_scores)\n",
        "\n",
        "out_df = pd.DataFrame(pred_full_test)\n",
        "out_df.columns = ['EAP', 'HPL', 'MWS']\n",
        "out_df.insert(0, 'id', test_id)\n",
        "out_df.to_csv(\"sub_fe.csv\", index=False)"
      ],
      "metadata": {
        "id": "msRvhwjbioeG"
      },
      "execution_count": null,
      "outputs": []
    },
    {
      "cell_type": "markdown",
      "source": [
        "val 0.3049, LB 0.32  \n",
        "모든 폴드에서 실행하면 더 나은 점수를 얻을 수 있다"
      ],
      "metadata": {
        "id": "6T-QALv0kuhR"
      }
    },
    {
      "cell_type": "code",
      "source": [
        "### Plot the important varialbes ###\n",
        "fig, ax = plt.subplots(figsize=\n",
        "                       (12,12))\n",
        "xgb.plot_importance(model, max_num_features=50, height=0.8, ax=ax)\n",
        "plt.show()"
      ],
      "metadata": {
        "id": "72JZ4QOHlCkA"
      },
      "execution_count": null,
      "outputs": []
    },
    {
      "cell_type": "markdown",
      "source": [
        "나이브베이즈 feature가 성능이 제일 좋네요. 오분류 오류를 봅시다."
      ],
      "metadata": {
        "id": "-TuBkPwblRy2"
      }
    },
    {
      "cell_type": "code",
      "source": [
        "cnf_matrix = confusion_matrix(val_y, np.argmax(pred_val_y, axis=1))\n",
        "np.set_printoptions(precision=2)\n",
        "\n",
        "## plot non-normalized confusion matrix\n",
        "plt.figure(figsize=(8,8))\n",
        "plot_confusion_matrix(cnf_matrix, classes=['EAP', 'HPL', 'MWS'], \n",
        "                      title = 'Confusion Matrix of XGB, without normalization')\n",
        "plt.show()"
      ],
      "metadata": {
        "id": "fbe83p92laDf"
      },
      "execution_count": null,
      "outputs": []
    },
    {
      "cell_type": "markdown",
      "source": [
        "EAP와 MWS는 다른 것들보다 더 자주 잘못 분류되는 것 같아요 이 쌍에 대한 예측을 개선하는 기능을 잠재적으로 생성할 수 있습니다."
      ],
      "metadata": {
        "id": "lRk_91wml9Ly"
      }
    },
    {
      "cell_type": "code",
      "source": [],
      "metadata": {
        "id": "9HjY8cp5lu8q"
      },
      "execution_count": null,
      "outputs": []
    }
  ]
}